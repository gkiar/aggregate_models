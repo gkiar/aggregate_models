{
 "cells": [
  {
   "cell_type": "code",
   "execution_count": 1,
   "metadata": {},
   "outputs": [],
   "source": [
    "from sklearn.pipeline import Pipeline\n",
    "from sklearn.decomposition import PCA\n",
    "from sklearn.svm import SVC\n",
    "\n",
    "import os.path as op\n",
    "import pandas as pd\n",
    "import numpy as np\n",
    "import os\n",
    "\n",
    "import matplotlib.pyplot as plt\n",
    "\n",
    "from utils import qcAggregate, unstratifiedSample\n",
    "from models import AggregatedLearner\n",
    "\n",
    "%matplotlib inline"
   ]
  },
  {
   "cell_type": "markdown",
   "metadata": {},
   "source": [
    "### No Repeated Measures Experiment"
   ]
  },
  {
   "cell_type": "code",
   "execution_count": 2,
   "metadata": {},
   "outputs": [],
   "source": [
    "bp = '../data/'\n",
    "exp = '../figures/'\n",
    "bpp = op.join(bp, exp)\n",
    "try:\n",
    "    os.makedirs(bpp)\n",
    "except FileExistsError:\n",
    "    pass"
   ]
  },
  {
   "cell_type": "code",
   "execution_count": 3,
   "metadata": {},
   "outputs": [
    {
     "data": {
      "text/plain": [
       "Index(['subject', 'simulation', 'graph', 'sex'], dtype='object')"
      ]
     },
     "execution_count": 3,
     "metadata": {},
     "output_type": "execute_result"
    }
   ],
   "source": [
    "df = pd.read_hdf('../data/aggregation_connect+feature+demo_dset100x1x1x20.h5')\n",
    "df.drop([\"edgecount\", \"globaleffic\", \"degree\", \"modularity\",\n",
    "         \"assort\", \"avplength\", \"weight\", \"ccoeff\", \"betweenness\",\n",
    "         \"plength\", \"age\", \"bmi\", \"cholesterol\", \"vo2max\"], axis=1, inplace=True)\n",
    "df.columns"
   ]
  },
  {
   "cell_type": "code",
   "execution_count": 4,
   "metadata": {
    "scrolled": false
   },
   "outputs": [],
   "source": [
    "subs = list(df['subject'].unique())\n",
    "for idx, row in df.iterrows():\n",
    "    # Replace subids with unique numbers\n",
    "    loc = subs.index(row.subject)\n",
    "    row['subject'] = loc\n",
    "    del loc\n",
    "    \n",
    "    row['sex'] = int(row['sex'])\n",
    "    \n",
    "    # Replace graphs with some ID signal but a lot of common signal\n",
    "    np.random.seed(row.subject + row.sex+4)\n",
    "    g = 10*(np.random.random(row.graph.shape) - 0.5) + int(row.sex)*0.73\n",
    "    np.random.seed(422)\n",
    "    g += 20 * (np.random.random(row.graph.shape) - 0.2)\n",
    "    row['graph'] = g\n",
    "    del g"
   ]
  },
  {
   "cell_type": "code",
   "execution_count": 5,
   "metadata": {
    "scrolled": false
   },
   "outputs": [],
   "source": [
    "# clf = StackingClassifier\n",
    "pca = PCA(n_components=20)\n",
    "svc = SVC(kernel='linear', probability=True)\n",
    "pipe = Pipeline(steps=[('pca', pca), ('svc', svc)])\n",
    "\n",
    "rs = 41  # Determined by: start at 42, decrement until holdout set was balanced across sex\n",
    "clfagg = AggregatedLearner(df, pipe, target_id='sex', observation_id='simulation',\n",
    "                           sample_id='subject', data_id='graph', random_seed=rs,\n",
    "                           verbose=False)"
   ]
  },
  {
   "cell_type": "code",
   "execution_count": 8,
   "metadata": {
    "scrolled": false
   },
   "outputs": [],
   "source": [
    "clfagg.fit(aggregation='ref')\n",
    "clfagg.fit(aggregation='median')\n",
    "clfagg.fit(aggregation='consensus')\n",
    "clfagg.fit(aggregation='mean')\n",
    "clfagg.fit(aggregation='mega')\n",
    "clfagg.fit(aggregation='none')\n",
    "clfagg.fit(aggregation='meta')"
   ]
  },
  {
   "cell_type": "code",
   "execution_count": 9,
   "metadata": {},
   "outputs": [
    {
     "data": {
      "text/html": [
       "<div>\n",
       "<style scoped>\n",
       "    .dataframe tbody tr th:only-of-type {\n",
       "        vertical-align: middle;\n",
       "    }\n",
       "\n",
       "    .dataframe tbody tr th {\n",
       "        vertical-align: top;\n",
       "    }\n",
       "\n",
       "    .dataframe thead th {\n",
       "        text-align: right;\n",
       "    }\n",
       "</style>\n",
       "<table border=\"1\" class=\"dataframe\">\n",
       "  <thead>\n",
       "    <tr style=\"text-align: right;\">\n",
       "      <th></th>\n",
       "      <th>aggregation</th>\n",
       "      <th>acc</th>\n",
       "      <th>f1</th>\n",
       "      <th>test_acc</th>\n",
       "      <th>test_f1</th>\n",
       "      <th>n_models</th>\n",
       "    </tr>\n",
       "  </thead>\n",
       "  <tbody>\n",
       "    <tr>\n",
       "      <th>0</th>\n",
       "      <td>ref</td>\n",
       "      <td>0.931944</td>\n",
       "      <td>0.912698</td>\n",
       "      <td>0.800000</td>\n",
       "      <td>0.750000</td>\n",
       "      <td>10</td>\n",
       "    </tr>\n",
       "    <tr>\n",
       "      <th>1</th>\n",
       "      <td>median</td>\n",
       "      <td>0.931944</td>\n",
       "      <td>0.912698</td>\n",
       "      <td>0.800000</td>\n",
       "      <td>0.750000</td>\n",
       "      <td>10</td>\n",
       "    </tr>\n",
       "    <tr>\n",
       "      <th>2</th>\n",
       "      <td>consensus</td>\n",
       "      <td>0.920833</td>\n",
       "      <td>0.903810</td>\n",
       "      <td>0.900000</td>\n",
       "      <td>0.857143</td>\n",
       "      <td>10</td>\n",
       "    </tr>\n",
       "    <tr>\n",
       "      <th>3</th>\n",
       "      <td>mean</td>\n",
       "      <td>0.931944</td>\n",
       "      <td>0.912698</td>\n",
       "      <td>0.800000</td>\n",
       "      <td>0.750000</td>\n",
       "      <td>10</td>\n",
       "    </tr>\n",
       "    <tr>\n",
       "      <th>4</th>\n",
       "      <td>mega</td>\n",
       "      <td>0.931885</td>\n",
       "      <td>0.912698</td>\n",
       "      <td>0.800000</td>\n",
       "      <td>0.750000</td>\n",
       "      <td>10</td>\n",
       "    </tr>\n",
       "    <tr>\n",
       "      <th>5</th>\n",
       "      <td>none</td>\n",
       "      <td>0.926581</td>\n",
       "      <td>0.904811</td>\n",
       "      <td>0.810891</td>\n",
       "      <td>0.753654</td>\n",
       "      <td>1010</td>\n",
       "    </tr>\n",
       "    <tr>\n",
       "      <th>6</th>\n",
       "      <td>meta</td>\n",
       "      <td>0.919444</td>\n",
       "      <td>0.893651</td>\n",
       "      <td>0.800000</td>\n",
       "      <td>0.750000</td>\n",
       "      <td>10</td>\n",
       "    </tr>\n",
       "  </tbody>\n",
       "</table>\n",
       "</div>"
      ],
      "text/plain": [
       "  aggregation       acc        f1  test_acc   test_f1  n_models\n",
       "0         ref  0.931944  0.912698  0.800000  0.750000        10\n",
       "1      median  0.931944  0.912698  0.800000  0.750000        10\n",
       "2   consensus  0.920833  0.903810  0.900000  0.857143        10\n",
       "3        mean  0.931944  0.912698  0.800000  0.750000        10\n",
       "4        mega  0.931885  0.912698  0.800000  0.750000        10\n",
       "5        none  0.926581  0.904811  0.810891  0.753654      1010\n",
       "6        meta  0.919444  0.893651  0.800000  0.750000        10"
      ]
     },
     "execution_count": 9,
     "metadata": {},
     "output_type": "execute_result"
    }
   ],
   "source": [
    "clfagg.performance_report()"
   ]
  },
  {
   "cell_type": "markdown",
   "metadata": {},
   "source": [
    "### Repeated Measures Experiment"
   ]
  },
  {
   "cell_type": "code",
   "execution_count": 13,
   "metadata": {},
   "outputs": [
    {
     "data": {
      "text/plain": [
       "Index(['directions', 'graph', 'session', 'simulation', 'subject', 'sex'], dtype='object')"
      ]
     },
     "execution_count": 13,
     "metadata": {},
     "output_type": "execute_result"
    }
   ],
   "source": [
    "df = pd.read_hdf('../data/aggregation_connect+demo_dset25x2x2x20.h5')\n",
    "df.drop([\"age\", \"bmi\", \"cholesterol\", \"vo2max\", \"seed\"], axis=1, inplace=True)\n",
    "df.columns"
   ]
  },
  {
   "cell_type": "code",
   "execution_count": 12,
   "metadata": {},
   "outputs": [
    {
     "data": {
      "text/html": [
       "<div>\n",
       "<style scoped>\n",
       "    .dataframe tbody tr th:only-of-type {\n",
       "        vertical-align: middle;\n",
       "    }\n",
       "\n",
       "    .dataframe tbody tr th {\n",
       "        vertical-align: top;\n",
       "    }\n",
       "\n",
       "    .dataframe thead th {\n",
       "        text-align: right;\n",
       "    }\n",
       "</style>\n",
       "<table border=\"1\" class=\"dataframe\">\n",
       "  <thead>\n",
       "    <tr style=\"text-align: right;\">\n",
       "      <th></th>\n",
       "      <th>directions</th>\n",
       "      <th>graph</th>\n",
       "      <th>seed</th>\n",
       "      <th>session</th>\n",
       "      <th>simulation</th>\n",
       "      <th>subject</th>\n",
       "      <th>sex</th>\n",
       "    </tr>\n",
       "  </thead>\n",
       "  <tbody>\n",
       "    <tr>\n",
       "      <th>0</th>\n",
       "      <td>odd</td>\n",
       "      <td>[[384.0, 104.0, 0.0, 95.0, 18.0, 0.0, 176.0, 6...</td>\n",
       "      <td>42</td>\n",
       "      <td>NFB2</td>\n",
       "      <td>sim-8</td>\n",
       "      <td>A00058503</td>\n",
       "      <td>2</td>\n",
       "    </tr>\n",
       "    <tr>\n",
       "      <th>1</th>\n",
       "      <td>even</td>\n",
       "      <td>[[507.0, 118.0, 0.0, 135.0, 12.0, 0.0, 259.0, ...</td>\n",
       "      <td>42</td>\n",
       "      <td>NFB2</td>\n",
       "      <td>sim-8</td>\n",
       "      <td>A00058503</td>\n",
       "      <td>2</td>\n",
       "    </tr>\n",
       "    <tr>\n",
       "      <th>2</th>\n",
       "      <td>odd</td>\n",
       "      <td>[[1341.0, 96.0, 1.0, 268.0, 70.0, 2.0, 172.0, ...</td>\n",
       "      <td>42</td>\n",
       "      <td>ALGA</td>\n",
       "      <td>sim-8</td>\n",
       "      <td>A00058503</td>\n",
       "      <td>2</td>\n",
       "    </tr>\n",
       "    <tr>\n",
       "      <th>3</th>\n",
       "      <td>even</td>\n",
       "      <td>[[1380.0, 192.0, 2.0, 230.0, 60.0, 0.0, 190.0,...</td>\n",
       "      <td>42</td>\n",
       "      <td>ALGA</td>\n",
       "      <td>sim-8</td>\n",
       "      <td>A00058503</td>\n",
       "      <td>2</td>\n",
       "    </tr>\n",
       "    <tr>\n",
       "      <th>4</th>\n",
       "      <td>even</td>\n",
       "      <td>[[0.0, 0.0, 0.0, 0.0, 0.0, 0.0, 0.0, 0.0, 0.0,...</td>\n",
       "      <td>42</td>\n",
       "      <td>ALGA</td>\n",
       "      <td>sim-8</td>\n",
       "      <td>A00060602</td>\n",
       "      <td>2</td>\n",
       "    </tr>\n",
       "    <tr>\n",
       "      <th>...</th>\n",
       "      <td>...</td>\n",
       "      <td>...</td>\n",
       "      <td>...</td>\n",
       "      <td>...</td>\n",
       "      <td>...</td>\n",
       "      <td>...</td>\n",
       "      <td>...</td>\n",
       "    </tr>\n",
       "    <tr>\n",
       "      <th>2095</th>\n",
       "      <td>odd</td>\n",
       "      <td>[[114.0, 0.0, 0.0, 108.0, 36.0, 0.0, 0.0, 2.0,...</td>\n",
       "      <td>42</td>\n",
       "      <td>NFBAR</td>\n",
       "      <td>sim-11</td>\n",
       "      <td>A00038642</td>\n",
       "      <td>1</td>\n",
       "    </tr>\n",
       "    <tr>\n",
       "      <th>2096</th>\n",
       "      <td>odd</td>\n",
       "      <td>[[277.0, 22.0, 27.0, 1.0, 16.0, 10.0, 42.0, 0....</td>\n",
       "      <td>42</td>\n",
       "      <td>DS2</td>\n",
       "      <td>sim-11</td>\n",
       "      <td>A00040628</td>\n",
       "      <td>2</td>\n",
       "    </tr>\n",
       "    <tr>\n",
       "      <th>2097</th>\n",
       "      <td>even</td>\n",
       "      <td>[[608.0, 49.0, 51.0, 0.0, 50.0, 15.0, 144.0, 0...</td>\n",
       "      <td>42</td>\n",
       "      <td>DS2</td>\n",
       "      <td>sim-11</td>\n",
       "      <td>A00040628</td>\n",
       "      <td>2</td>\n",
       "    </tr>\n",
       "    <tr>\n",
       "      <th>2098</th>\n",
       "      <td>even</td>\n",
       "      <td>[[672.0, 0.0, 0.0, 54.0, 105.0, 92.0, 2.0, 1.0...</td>\n",
       "      <td>42</td>\n",
       "      <td>NFBAR</td>\n",
       "      <td>sim-11</td>\n",
       "      <td>A00040628</td>\n",
       "      <td>2</td>\n",
       "    </tr>\n",
       "    <tr>\n",
       "      <th>2099</th>\n",
       "      <td>odd</td>\n",
       "      <td>[[672.0, 0.0, 0.0, 30.0, 97.0, 97.0, 5.0, 0.0,...</td>\n",
       "      <td>42</td>\n",
       "      <td>NFBAR</td>\n",
       "      <td>sim-11</td>\n",
       "      <td>A00040628</td>\n",
       "      <td>2</td>\n",
       "    </tr>\n",
       "  </tbody>\n",
       "</table>\n",
       "<p>2100 rows × 7 columns</p>\n",
       "</div>"
      ],
      "text/plain": [
       "     directions                                              graph  seed  \\\n",
       "0           odd  [[384.0, 104.0, 0.0, 95.0, 18.0, 0.0, 176.0, 6...    42   \n",
       "1          even  [[507.0, 118.0, 0.0, 135.0, 12.0, 0.0, 259.0, ...    42   \n",
       "2           odd  [[1341.0, 96.0, 1.0, 268.0, 70.0, 2.0, 172.0, ...    42   \n",
       "3          even  [[1380.0, 192.0, 2.0, 230.0, 60.0, 0.0, 190.0,...    42   \n",
       "4          even  [[0.0, 0.0, 0.0, 0.0, 0.0, 0.0, 0.0, 0.0, 0.0,...    42   \n",
       "...         ...                                                ...   ...   \n",
       "2095        odd  [[114.0, 0.0, 0.0, 108.0, 36.0, 0.0, 0.0, 2.0,...    42   \n",
       "2096        odd  [[277.0, 22.0, 27.0, 1.0, 16.0, 10.0, 42.0, 0....    42   \n",
       "2097       even  [[608.0, 49.0, 51.0, 0.0, 50.0, 15.0, 144.0, 0...    42   \n",
       "2098       even  [[672.0, 0.0, 0.0, 54.0, 105.0, 92.0, 2.0, 1.0...    42   \n",
       "2099        odd  [[672.0, 0.0, 0.0, 30.0, 97.0, 97.0, 5.0, 0.0,...    42   \n",
       "\n",
       "     session simulation    subject sex  \n",
       "0       NFB2      sim-8  A00058503   2  \n",
       "1       NFB2      sim-8  A00058503   2  \n",
       "2       ALGA      sim-8  A00058503   2  \n",
       "3       ALGA      sim-8  A00058503   2  \n",
       "4       ALGA      sim-8  A00060602   2  \n",
       "...      ...        ...        ...  ..  \n",
       "2095   NFBAR     sim-11  A00038642   1  \n",
       "2096     DS2     sim-11  A00040628   2  \n",
       "2097     DS2     sim-11  A00040628   2  \n",
       "2098   NFBAR     sim-11  A00040628   2  \n",
       "2099   NFBAR     sim-11  A00040628   2  \n",
       "\n",
       "[2100 rows x 7 columns]"
      ]
     },
     "execution_count": 12,
     "metadata": {},
     "output_type": "execute_result"
    }
   ],
   "source": [
    "df"
   ]
  },
  {
   "cell_type": "code",
   "execution_count": null,
   "metadata": {},
   "outputs": [],
   "source": []
  },
  {
   "cell_type": "code",
   "execution_count": null,
   "metadata": {},
   "outputs": [],
   "source": []
  }
 ],
 "metadata": {
  "kernelspec": {
   "display_name": "agg",
   "language": "python",
   "name": "agg"
  },
  "language_info": {
   "codemirror_mode": {
    "name": "ipython",
    "version": 3
   },
   "file_extension": ".py",
   "mimetype": "text/x-python",
   "name": "python",
   "nbconvert_exporter": "python",
   "pygments_lexer": "ipython3",
   "version": "3.7.3"
  }
 },
 "nbformat": 4,
 "nbformat_minor": 4
}
