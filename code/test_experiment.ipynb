{
 "cells": [
  {
   "cell_type": "code",
   "execution_count": 1,
   "metadata": {},
   "outputs": [],
   "source": [
    "from sklearn.pipeline import Pipeline\n",
    "from sklearn.decomposition import PCA\n",
    "from sklearn.svm import SVC\n",
    "\n",
    "import os.path as op\n",
    "import pandas as pd\n",
    "import numpy as np\n",
    "import os\n",
    "\n",
    "import matplotlib.pyplot as plt\n",
    "\n",
    "from utils import qcAggregate, unstratifiedSample\n",
    "from models import AggregatedLearner\n",
    "\n",
    "%matplotlib inline"
   ]
  },
  {
   "cell_type": "markdown",
   "metadata": {},
   "source": [
    "### Step 1: Load (and replace) data"
   ]
  },
  {
   "cell_type": "code",
   "execution_count": 2,
   "metadata": {},
   "outputs": [],
   "source": [
    "bp = '../data/'\n",
    "exp = '../figures/'\n",
    "bpp = op.join(bp, exp)\n",
    "try:\n",
    "    os.makedirs(bpp)\n",
    "except FileExistsError:\n",
    "    pass"
   ]
  },
  {
   "cell_type": "code",
   "execution_count": 3,
   "metadata": {},
   "outputs": [
    {
     "data": {
      "text/plain": [
       "Index(['subject', 'simulation', 'graph', 'sex'], dtype='object')"
      ]
     },
     "execution_count": 3,
     "metadata": {},
     "output_type": "execute_result"
    }
   ],
   "source": [
    "df = pd.read_hdf('../data/aggregation_connect+feature+demo_dset100x1x1x20.h5')\n",
    "df.drop([\"edgecount\", \"globaleffic\", \"degree\", \"modularity\",\n",
    "         \"assort\", \"avplength\", \"weight\", \"ccoeff\", \"betweenness\",\n",
    "         \"plength\", \"age\", \"bmi\", \"cholesterol\", \"vo2max\"], axis=1, inplace=True)\n",
    "df.columns"
   ]
  },
  {
   "cell_type": "code",
   "execution_count": 4,
   "metadata": {
    "scrolled": false
   },
   "outputs": [],
   "source": [
    "subs = list(df['subject'].unique())\n",
    "for idx, row in df.iterrows():\n",
    "    # Replace subids with unique numbers\n",
    "    loc = subs.index(row.subject)\n",
    "    row['subject'] = loc\n",
    "    del loc\n",
    "    \n",
    "    row['sex'] = int(row['sex'])\n",
    "    \n",
    "    # Replace graphs with some ID signal but a lot of common signal\n",
    "    np.random.seed(row.subject + row.sex+4)\n",
    "    g = 10*(np.random.random(row.graph.shape) - 0.5) + int(row.sex)*0.73\n",
    "    np.random.seed(422)\n",
    "    g += 20 * (np.random.random(row.graph.shape) - 0.2)\n",
    "    row['graph'] = g\n",
    "    del g"
   ]
  },
  {
   "cell_type": "code",
   "execution_count": 5,
   "metadata": {
    "scrolled": false
   },
   "outputs": [],
   "source": [
    "# clf = StackingClassifier\n",
    "pca = PCA(n_components=20)\n",
    "svc = SVC(kernel='linear', probability=True)\n",
    "pipe = Pipeline(steps=[('pca', pca), ('svc', svc)])\n",
    "\n",
    "rs = 41  # Determined by: start at 42, decrement until holdout set was balanced across sex\n",
    "clfagg = AggregatedLearner(df, pipe, target_id='sex', observation_id='simulation',\n",
    "                           sample_id='subject', data_id='graph', random_seed=rs,\n",
    "                           verbose=False)"
   ]
  },
  {
   "cell_type": "code",
   "execution_count": 8,
   "metadata": {
    "scrolled": false
   },
   "outputs": [],
   "source": [
    "clfagg.fit(aggregation='ref')\n",
    "clfagg.fit(aggregation='median')\n",
    "clfagg.fit(aggregation='consensus')\n",
    "clfagg.fit(aggregation='mean')\n",
    "clfagg.fit(aggregation='mega')\n",
    "clfagg.fit(aggregation='none')\n",
    "clfagg.fit(aggregation='meta')"
   ]
  },
  {
   "cell_type": "code",
   "execution_count": 9,
   "metadata": {},
   "outputs": [
    {
     "data": {
      "text/html": [
       "<div>\n",
       "<style scoped>\n",
       "    .dataframe tbody tr th:only-of-type {\n",
       "        vertical-align: middle;\n",
       "    }\n",
       "\n",
       "    .dataframe tbody tr th {\n",
       "        vertical-align: top;\n",
       "    }\n",
       "\n",
       "    .dataframe thead th {\n",
       "        text-align: right;\n",
       "    }\n",
       "</style>\n",
       "<table border=\"1\" class=\"dataframe\">\n",
       "  <thead>\n",
       "    <tr style=\"text-align: right;\">\n",
       "      <th></th>\n",
       "      <th>aggregation</th>\n",
       "      <th>acc</th>\n",
       "      <th>f1</th>\n",
       "      <th>test_acc</th>\n",
       "      <th>test_f1</th>\n",
       "      <th>n_models</th>\n",
       "    </tr>\n",
       "  </thead>\n",
       "  <tbody>\n",
       "    <tr>\n",
       "      <th>0</th>\n",
       "      <td>ref</td>\n",
       "      <td>0.931944</td>\n",
       "      <td>0.912698</td>\n",
       "      <td>0.800000</td>\n",
       "      <td>0.750000</td>\n",
       "      <td>10</td>\n",
       "    </tr>\n",
       "    <tr>\n",
       "      <th>1</th>\n",
       "      <td>median</td>\n",
       "      <td>0.931944</td>\n",
       "      <td>0.912698</td>\n",
       "      <td>0.800000</td>\n",
       "      <td>0.750000</td>\n",
       "      <td>10</td>\n",
       "    </tr>\n",
       "    <tr>\n",
       "      <th>2</th>\n",
       "      <td>consensus</td>\n",
       "      <td>0.920833</td>\n",
       "      <td>0.903810</td>\n",
       "      <td>0.900000</td>\n",
       "      <td>0.857143</td>\n",
       "      <td>10</td>\n",
       "    </tr>\n",
       "    <tr>\n",
       "      <th>3</th>\n",
       "      <td>mean</td>\n",
       "      <td>0.931944</td>\n",
       "      <td>0.912698</td>\n",
       "      <td>0.800000</td>\n",
       "      <td>0.750000</td>\n",
       "      <td>10</td>\n",
       "    </tr>\n",
       "    <tr>\n",
       "      <th>4</th>\n",
       "      <td>mega</td>\n",
       "      <td>0.931885</td>\n",
       "      <td>0.912698</td>\n",
       "      <td>0.800000</td>\n",
       "      <td>0.750000</td>\n",
       "      <td>10</td>\n",
       "    </tr>\n",
       "    <tr>\n",
       "      <th>5</th>\n",
       "      <td>none</td>\n",
       "      <td>0.926581</td>\n",
       "      <td>0.904811</td>\n",
       "      <td>0.810891</td>\n",
       "      <td>0.753654</td>\n",
       "      <td>1010</td>\n",
       "    </tr>\n",
       "    <tr>\n",
       "      <th>6</th>\n",
       "      <td>meta</td>\n",
       "      <td>0.919444</td>\n",
       "      <td>0.893651</td>\n",
       "      <td>0.800000</td>\n",
       "      <td>0.750000</td>\n",
       "      <td>10</td>\n",
       "    </tr>\n",
       "  </tbody>\n",
       "</table>\n",
       "</div>"
      ],
      "text/plain": [
       "  aggregation       acc        f1  test_acc   test_f1  n_models\n",
       "0         ref  0.931944  0.912698  0.800000  0.750000        10\n",
       "1      median  0.931944  0.912698  0.800000  0.750000        10\n",
       "2   consensus  0.920833  0.903810  0.900000  0.857143        10\n",
       "3        mean  0.931944  0.912698  0.800000  0.750000        10\n",
       "4        mega  0.931885  0.912698  0.800000  0.750000        10\n",
       "5        none  0.926581  0.904811  0.810891  0.753654      1010\n",
       "6        meta  0.919444  0.893651  0.800000  0.750000        10"
      ]
     },
     "execution_count": 9,
     "metadata": {},
     "output_type": "execute_result"
    }
   ],
   "source": [
    "clfagg.performance_report()"
   ]
  },
  {
   "cell_type": "code",
   "execution_count": null,
   "metadata": {},
   "outputs": [],
   "source": []
  }
 ],
 "metadata": {
  "kernelspec": {
   "display_name": "agg",
   "language": "python",
   "name": "agg"
  },
  "language_info": {
   "codemirror_mode": {
    "name": "ipython",
    "version": 3
   },
   "file_extension": ".py",
   "mimetype": "text/x-python",
   "name": "python",
   "nbconvert_exporter": "python",
   "pygments_lexer": "ipython3",
   "version": "3.7.3"
  }
 },
 "nbformat": 4,
 "nbformat_minor": 4
}
