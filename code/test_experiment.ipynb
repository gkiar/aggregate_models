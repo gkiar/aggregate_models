{
 "cells": [
  {
   "cell_type": "code",
   "execution_count": 1,
   "metadata": {},
   "outputs": [],
   "source": [
    "from sklearn.pipeline import Pipeline\n",
    "from sklearn.decomposition import PCA\n",
    "from sklearn.svm import SVC\n",
    "from sklearn.linear_model import LogisticRegression\n",
    "from sklearn.ensemble import RandomForestClassifier\n",
    "\n",
    "import os.path as op\n",
    "import pandas as pd\n",
    "import numpy as np\n",
    "import os\n",
    "\n",
    "import matplotlib.pyplot as plt\n",
    "\n",
    "from utils import qcAggregate, unstratifiedSample\n",
    "from models import AggregateLearner\n",
    "\n",
    "%matplotlib inline"
   ]
  },
  {
   "cell_type": "markdown",
   "metadata": {},
   "source": [
    "### No Repeated Measures Experiment"
   ]
  },
  {
   "cell_type": "code",
   "execution_count": 2,
   "metadata": {},
   "outputs": [],
   "source": [
    "bp = '../data/'\n",
    "exp = '../figures/'\n",
    "bpp = op.join(bp, exp)\n",
    "try:\n",
    "    os.makedirs(bpp)\n",
    "except FileExistsError:\n",
    "    pass"
   ]
  },
  {
   "cell_type": "code",
   "execution_count": 3,
   "metadata": {},
   "outputs": [
    {
     "data": {
      "text/plain": [
       "Index(['subject', 'simulation', 'graph', 'sex'], dtype='object')"
      ]
     },
     "execution_count": 3,
     "metadata": {},
     "output_type": "execute_result"
    }
   ],
   "source": [
    "df_100 = pd.read_hdf('../data/aggregation_connect+feature+demo_dset100x1x1x20.h5')\n",
    "df_100.drop([\"edgecount\", \"globaleffic\", \"degree\", \"modularity\",\n",
    "             \"assort\", \"avplength\", \"weight\", \"ccoeff\", \"betweenness\",\n",
    "             \"plength\", \"age\", \"bmi\", \"cholesterol\", \"vo2max\"], axis=1, inplace=True)\n",
    "df_100.columns"
   ]
  },
  {
   "cell_type": "code",
   "execution_count": 4,
   "metadata": {
    "scrolled": false
   },
   "outputs": [],
   "source": [
    "subs = list(df_100['subject'].unique())\n",
    "for idx, row in df_100.iterrows():    \n",
    "    # Replace graphs with some ID signal but a lot of common signal\n",
    "    np.random.seed(row.subject + row.sex+4)\n",
    "    g = 10*(np.random.random(row.graph.shape) - 0.5) + int(row.sex)*0.73\n",
    "    np.random.seed(422)\n",
    "    g += 20 * (np.random.random(row.graph.shape) - 0.2)\n",
    "    row['graph'] = g\n",
    "    del g"
   ]
  },
  {
   "cell_type": "code",
   "execution_count": 5,
   "metadata": {
    "scrolled": false
   },
   "outputs": [],
   "source": [
    "pca = PCA(n_components=20)\n",
    "svc = SVC(kernel='linear', probability=True)\n",
    "pipe = Pipeline(steps=[('pca', pca), ('svc', svc)])\n",
    "\n",
    "# RS Determined as: 42, decrement until holdout was balanced by sex\n",
    "rs = 41\n",
    "clfmca_100 = AggregateLearner(df_100, pipe, target_id='sex',\n",
    "                              observation_id='simulation',\n",
    "                              sample_id='subject', data_id='graph',\n",
    "                              random_seed=rs, verbose=False, triu=True)"
   ]
  },
  {
   "cell_type": "code",
   "execution_count": 6,
   "metadata": {
    "scrolled": false
   },
   "outputs": [
    {
     "name": "stdout",
     "output_type": "stream",
     "text": [
      "CPU times: user 1min 31s, sys: 7.33 s, total: 1min 39s\n",
      "Wall time: 1min 5s\n"
     ]
    }
   ],
   "source": [
    "%%time\n",
    "clfmca_100.fit(aggregation='ref')\n",
    "clfmca_100.fit(aggregation='median')\n",
    "clfmca_100.fit(aggregation='consensus')\n",
    "clfmca_100.fit(aggregation='mean')\n",
    "clfmca_100.fit(aggregation='mega')\n",
    "clfmca_100.fit(aggregation='none')\n",
    "clfmca_100.fit(aggregation='meta')"
   ]
  },
  {
   "cell_type": "code",
   "execution_count": 7,
   "metadata": {},
   "outputs": [
    {
     "data": {
      "text/html": [
       "<div>\n",
       "<style scoped>\n",
       "    .dataframe tbody tr th:only-of-type {\n",
       "        vertical-align: middle;\n",
       "    }\n",
       "\n",
       "    .dataframe tbody tr th {\n",
       "        vertical-align: top;\n",
       "    }\n",
       "\n",
       "    .dataframe thead th {\n",
       "        text-align: right;\n",
       "    }\n",
       "</style>\n",
       "<table border=\"1\" class=\"dataframe\">\n",
       "  <thead>\n",
       "    <tr style=\"text-align: right;\">\n",
       "      <th></th>\n",
       "      <th>aggregation</th>\n",
       "      <th>acc</th>\n",
       "      <th>f1</th>\n",
       "      <th>test_acc</th>\n",
       "      <th>test_f1</th>\n",
       "      <th>test_mean_acc</th>\n",
       "      <th>test_mean_f1</th>\n",
       "      <th>n_models</th>\n",
       "    </tr>\n",
       "  </thead>\n",
       "  <tbody>\n",
       "    <tr>\n",
       "      <th>0</th>\n",
       "      <td>ref</td>\n",
       "      <td>0.886667</td>\n",
       "      <td>0.858077</td>\n",
       "      <td>0.736842</td>\n",
       "      <td>0.615385</td>\n",
       "      <td>0.736842</td>\n",
       "      <td>0.624908</td>\n",
       "      <td>5</td>\n",
       "    </tr>\n",
       "    <tr>\n",
       "      <th>1</th>\n",
       "      <td>median</td>\n",
       "      <td>0.886667</td>\n",
       "      <td>0.858077</td>\n",
       "      <td>0.736842</td>\n",
       "      <td>0.615385</td>\n",
       "      <td>0.736842</td>\n",
       "      <td>0.624908</td>\n",
       "      <td>5</td>\n",
       "    </tr>\n",
       "    <tr>\n",
       "      <th>2</th>\n",
       "      <td>consensus</td>\n",
       "      <td>0.899167</td>\n",
       "      <td>0.886049</td>\n",
       "      <td>0.789474</td>\n",
       "      <td>0.666667</td>\n",
       "      <td>0.705263</td>\n",
       "      <td>0.620696</td>\n",
       "      <td>5</td>\n",
       "    </tr>\n",
       "    <tr>\n",
       "      <th>3</th>\n",
       "      <td>mean</td>\n",
       "      <td>0.886667</td>\n",
       "      <td>0.858077</td>\n",
       "      <td>0.736842</td>\n",
       "      <td>0.615385</td>\n",
       "      <td>0.736842</td>\n",
       "      <td>0.624908</td>\n",
       "      <td>5</td>\n",
       "    </tr>\n",
       "    <tr>\n",
       "      <th>4</th>\n",
       "      <td>mega</td>\n",
       "      <td>0.911629</td>\n",
       "      <td>0.887326</td>\n",
       "      <td>0.736842</td>\n",
       "      <td>0.615385</td>\n",
       "      <td>0.747368</td>\n",
       "      <td>0.646154</td>\n",
       "      <td>5</td>\n",
       "    </tr>\n",
       "    <tr>\n",
       "      <th>5</th>\n",
       "      <td>none</td>\n",
       "      <td>0.905974</td>\n",
       "      <td>0.879676</td>\n",
       "      <td>0.831162</td>\n",
       "      <td>0.745290</td>\n",
       "      <td>0.764461</td>\n",
       "      <td>0.664856</td>\n",
       "      <td>505</td>\n",
       "    </tr>\n",
       "    <tr>\n",
       "      <th>6</th>\n",
       "      <td>meta</td>\n",
       "      <td>0.911667</td>\n",
       "      <td>0.882564</td>\n",
       "      <td>0.736842</td>\n",
       "      <td>0.615385</td>\n",
       "      <td>0.757895</td>\n",
       "      <td>0.647619</td>\n",
       "      <td>5</td>\n",
       "    </tr>\n",
       "  </tbody>\n",
       "</table>\n",
       "</div>"
      ],
      "text/plain": [
       "  aggregation       acc        f1  test_acc   test_f1  test_mean_acc  \\\n",
       "0         ref  0.886667  0.858077  0.736842  0.615385       0.736842   \n",
       "1      median  0.886667  0.858077  0.736842  0.615385       0.736842   \n",
       "2   consensus  0.899167  0.886049  0.789474  0.666667       0.705263   \n",
       "3        mean  0.886667  0.858077  0.736842  0.615385       0.736842   \n",
       "4        mega  0.911629  0.887326  0.736842  0.615385       0.747368   \n",
       "5        none  0.905974  0.879676  0.831162  0.745290       0.764461   \n",
       "6        meta  0.911667  0.882564  0.736842  0.615385       0.757895   \n",
       "\n",
       "   test_mean_f1  n_models  \n",
       "0      0.624908         5  \n",
       "1      0.624908         5  \n",
       "2      0.620696         5  \n",
       "3      0.624908         5  \n",
       "4      0.646154         5  \n",
       "5      0.664856       505  \n",
       "6      0.647619         5  "
      ]
     },
     "execution_count": 7,
     "metadata": {},
     "output_type": "execute_result"
    }
   ],
   "source": [
    "clfmca_100.performance_report()"
   ]
  },
  {
   "cell_type": "markdown",
   "metadata": {},
   "source": [
    "### Repeated Measures Experiment"
   ]
  },
  {
   "cell_type": "code",
   "execution_count": 8,
   "metadata": {},
   "outputs": [
    {
     "data": {
      "text/plain": [
       "Index(['subsample', 'graph', 'session', 'simulation', 'subject', 'sex'], dtype='object')"
      ]
     },
     "execution_count": 8,
     "metadata": {},
     "output_type": "execute_result"
    }
   ],
   "source": [
    "df_25 = pd.read_hdf('../data/aggregation_connect+demo_dset25x2x2x20.h5')\n",
    "df_25.drop([\"age\", \"bmi\", \"cholesterol\", \"vo2max\"], axis=1, inplace=True)\n",
    "df_25.columns"
   ]
  },
  {
   "cell_type": "code",
   "execution_count": 9,
   "metadata": {},
   "outputs": [],
   "source": [
    "subs = list(df_25['subject'].unique())\n",
    "\n",
    "np.random.seed(1234567890)\n",
    "for idx, row in df_25.iterrows():    \n",
    "    # Replace graphs with some ID signal but a lot of common signal\n",
    "#     np.random.seed(row.subject*(row.session+1) + row.sex + 4)\n",
    "    g = 10*(np.random.random(row.graph.shape) - 0.5) + int(row.sex)*0.7\n",
    "#     np.random.seed(422)\n",
    "    g += 20 * (np.random.random(row.graph.shape) - 0.2)\n",
    "    row['graph'] = g\n",
    "    del g"
   ]
  },
  {
   "cell_type": "code",
   "execution_count": 10,
   "metadata": {},
   "outputs": [
    {
     "name": "stdout",
     "output_type": "stream",
     "text": [
      "525\n",
      "50\n",
      "50\n"
     ]
    }
   ],
   "source": [
    "df_25mca = df_25.query('subsample == 0 and session == 0')\n",
    "print(len(df_25mca))\n",
    "\n",
    "df_25sub = df_25.query('simulation == \"ref\" and session == 0')\n",
    "print(len(df_25sub))\n",
    "\n",
    "df_25ses = df_25.query('simulation == \"ref\" and subsample == 0')\n",
    "print(len(df_25ses))"
   ]
  },
  {
   "cell_type": "code",
   "execution_count": 11,
   "metadata": {},
   "outputs": [],
   "source": [
    "pca = PCA(n_components=10)\n",
    "svc = SVC(kernel='linear', probability=True)\n",
    "pipe = Pipeline(steps=[('pca', pca), ('svc', svc)])\n",
    "\n",
    "# RS Determined as: 42, increment until holdout was balanced by sex\n",
    "rs = 45\n",
    "clfmca_25 = AggregateLearner(df_25ses, pipe, target_id='sex',\n",
    "                             observation_id='simulation',\n",
    "                             sample_id='subject', data_id='graph',\n",
    "                             random_seed=rs, verbose=False, oos=0.2,\n",
    "                             cvfolds=5, triu=True)"
   ]
  },
  {
   "cell_type": "code",
   "execution_count": 12,
   "metadata": {
    "scrolled": false
   },
   "outputs": [],
   "source": [
    "clfmca_25.fit(aggregation='ref')\n",
    "# clfmca_25.fit(aggregation='median')\n",
    "# clfmca_25.fit(aggregation='consensus')\n",
    "clfmca_25.fit(aggregation='mean')\n",
    "clfmca_25.fit(aggregation='mega')\n",
    "# clfmca_25.fit(aggregation='none')\n",
    "# clfmca_25.fit(aggregation='meta')"
   ]
  },
  {
   "cell_type": "code",
   "execution_count": 13,
   "metadata": {},
   "outputs": [
    {
     "data": {
      "text/html": [
       "<div>\n",
       "<style scoped>\n",
       "    .dataframe tbody tr th:only-of-type {\n",
       "        vertical-align: middle;\n",
       "    }\n",
       "\n",
       "    .dataframe tbody tr th {\n",
       "        vertical-align: top;\n",
       "    }\n",
       "\n",
       "    .dataframe thead th {\n",
       "        text-align: right;\n",
       "    }\n",
       "</style>\n",
       "<table border=\"1\" class=\"dataframe\">\n",
       "  <thead>\n",
       "    <tr style=\"text-align: right;\">\n",
       "      <th></th>\n",
       "      <th>aggregation</th>\n",
       "      <th>acc</th>\n",
       "      <th>f1</th>\n",
       "      <th>test_acc</th>\n",
       "      <th>test_f1</th>\n",
       "      <th>test_mean_acc</th>\n",
       "      <th>test_mean_f1</th>\n",
       "      <th>n_models</th>\n",
       "    </tr>\n",
       "  </thead>\n",
       "  <tbody>\n",
       "    <tr>\n",
       "      <th>0</th>\n",
       "      <td>ref</td>\n",
       "      <td>0.62</td>\n",
       "      <td>0.759524</td>\n",
       "      <td>0.5</td>\n",
       "      <td>0.666667</td>\n",
       "      <td>0.5</td>\n",
       "      <td>0.666667</td>\n",
       "      <td>5</td>\n",
       "    </tr>\n",
       "    <tr>\n",
       "      <th>1</th>\n",
       "      <td>mean</td>\n",
       "      <td>0.62</td>\n",
       "      <td>0.759524</td>\n",
       "      <td>0.5</td>\n",
       "      <td>0.666667</td>\n",
       "      <td>0.5</td>\n",
       "      <td>0.666667</td>\n",
       "      <td>5</td>\n",
       "    </tr>\n",
       "    <tr>\n",
       "      <th>2</th>\n",
       "      <td>mega</td>\n",
       "      <td>0.62</td>\n",
       "      <td>0.759524</td>\n",
       "      <td>0.5</td>\n",
       "      <td>0.666667</td>\n",
       "      <td>0.5</td>\n",
       "      <td>0.666667</td>\n",
       "      <td>5</td>\n",
       "    </tr>\n",
       "  </tbody>\n",
       "</table>\n",
       "</div>"
      ],
      "text/plain": [
       "  aggregation   acc        f1  test_acc   test_f1  test_mean_acc  \\\n",
       "0         ref  0.62  0.759524       0.5  0.666667            0.5   \n",
       "1        mean  0.62  0.759524       0.5  0.666667            0.5   \n",
       "2        mega  0.62  0.759524       0.5  0.666667            0.5   \n",
       "\n",
       "   test_mean_f1  n_models  \n",
       "0      0.666667         5  \n",
       "1      0.666667         5  \n",
       "2      0.666667         5  "
      ]
     },
     "execution_count": 13,
     "metadata": {},
     "output_type": "execute_result"
    }
   ],
   "source": [
    "clfmca_25.performance_report()"
   ]
  },
  {
   "cell_type": "code",
   "execution_count": 14,
   "metadata": {},
   "outputs": [],
   "source": [
    "pca = PCA(n_components=10)\n",
    "lrc = LogisticRegression(solver='liblinear')\n",
    "pipe = Pipeline(steps=[('pca', pca), ('lrc', lrc)])\n",
    "\n",
    "# RS Determined as: 42, increment until holdout was balanced by sex\n",
    "rs = 45\n",
    "clfmca_25 = AggregateLearner(df_25sub, pipe, target_id='sex',\n",
    "                             observation_id='simulation',\n",
    "                             sample_id='subject', data_id='graph',\n",
    "                             random_seed=rs, verbose=False, oos=0.2,\n",
    "                             cvfolds=5, triu=True)"
   ]
  },
  {
   "cell_type": "code",
   "execution_count": 15,
   "metadata": {},
   "outputs": [],
   "source": [
    "clfmca_25.fit(aggregation='ref')\n",
    "# clfmca_25.fit(aggregation='median')\n",
    "# clfmca_25.fit(aggregation='consensus')\n",
    "clfmca_25.fit(aggregation='mean')\n",
    "clfmca_25.fit(aggregation='mega')\n",
    "# clfmca_25.fit(aggregation='none')\n",
    "# clfmca_25.fit(aggregation='meta')"
   ]
  },
  {
   "cell_type": "code",
   "execution_count": 16,
   "metadata": {},
   "outputs": [
    {
     "data": {
      "text/html": [
       "<div>\n",
       "<style scoped>\n",
       "    .dataframe tbody tr th:only-of-type {\n",
       "        vertical-align: middle;\n",
       "    }\n",
       "\n",
       "    .dataframe tbody tr th {\n",
       "        vertical-align: top;\n",
       "    }\n",
       "\n",
       "    .dataframe thead th {\n",
       "        text-align: right;\n",
       "    }\n",
       "</style>\n",
       "<table border=\"1\" class=\"dataframe\">\n",
       "  <thead>\n",
       "    <tr style=\"text-align: right;\">\n",
       "      <th></th>\n",
       "      <th>aggregation</th>\n",
       "      <th>acc</th>\n",
       "      <th>f1</th>\n",
       "      <th>test_acc</th>\n",
       "      <th>test_f1</th>\n",
       "      <th>test_mean_acc</th>\n",
       "      <th>test_mean_f1</th>\n",
       "      <th>n_models</th>\n",
       "    </tr>\n",
       "  </thead>\n",
       "  <tbody>\n",
       "    <tr>\n",
       "      <th>0</th>\n",
       "      <td>ref</td>\n",
       "      <td>0.79</td>\n",
       "      <td>0.850216</td>\n",
       "      <td>0.75</td>\n",
       "      <td>0.8</td>\n",
       "      <td>0.65</td>\n",
       "      <td>0.72</td>\n",
       "      <td>5</td>\n",
       "    </tr>\n",
       "    <tr>\n",
       "      <th>1</th>\n",
       "      <td>mean</td>\n",
       "      <td>0.92</td>\n",
       "      <td>0.933333</td>\n",
       "      <td>0.75</td>\n",
       "      <td>0.8</td>\n",
       "      <td>0.75</td>\n",
       "      <td>0.78</td>\n",
       "      <td>5</td>\n",
       "    </tr>\n",
       "    <tr>\n",
       "      <th>2</th>\n",
       "      <td>mega</td>\n",
       "      <td>0.79</td>\n",
       "      <td>0.850216</td>\n",
       "      <td>0.75</td>\n",
       "      <td>0.8</td>\n",
       "      <td>0.65</td>\n",
       "      <td>0.72</td>\n",
       "      <td>5</td>\n",
       "    </tr>\n",
       "  </tbody>\n",
       "</table>\n",
       "</div>"
      ],
      "text/plain": [
       "  aggregation   acc        f1  test_acc  test_f1  test_mean_acc  test_mean_f1  \\\n",
       "0         ref  0.79  0.850216      0.75      0.8           0.65          0.72   \n",
       "1        mean  0.92  0.933333      0.75      0.8           0.75          0.78   \n",
       "2        mega  0.79  0.850216      0.75      0.8           0.65          0.72   \n",
       "\n",
       "   n_models  \n",
       "0         5  \n",
       "1         5  \n",
       "2         5  "
      ]
     },
     "execution_count": 16,
     "metadata": {},
     "output_type": "execute_result"
    }
   ],
   "source": [
    "clfmca_25.performance_report()"
   ]
  },
  {
   "cell_type": "code",
   "execution_count": 17,
   "metadata": {},
   "outputs": [],
   "source": [
    "pca = PCA(n_components=13)\n",
    "rfc = RandomForestClassifier()\n",
    "pipe = Pipeline(steps=[('pca', pca), ('rfc', rfc)])\n",
    "\n",
    "# RS Determined as: 42, increment until holdout was balanced by sex\n",
    "rs = 43\n",
    "clfmca_25 = AggregateLearner(df_25mca, pipe, target_id='sex',\n",
    "                             observation_id='simulation',\n",
    "                             sample_id='subject', data_id='graph',\n",
    "                             random_seed=rs, verbose=False, oos=0.2,\n",
    "                             cvfolds=5, triu=True)"
   ]
  },
  {
   "cell_type": "code",
   "execution_count": 18,
   "metadata": {},
   "outputs": [],
   "source": [
    "clfmca_25.fit(aggregation='ref')\n",
    "# clfmca_25.fit(aggregation='median')\n",
    "# clfmca_25.fit(aggregation='consensus')\n",
    "clfmca_25.fit(aggregation='mean')\n",
    "clfmca_25.fit(aggregation='mega')\n",
    "# clfmca_25.fit(aggregation='none')\n",
    "# clfmca_25.fit(aggregation='meta')"
   ]
  },
  {
   "cell_type": "code",
   "execution_count": 19,
   "metadata": {},
   "outputs": [
    {
     "data": {
      "text/html": [
       "<div>\n",
       "<style scoped>\n",
       "    .dataframe tbody tr th:only-of-type {\n",
       "        vertical-align: middle;\n",
       "    }\n",
       "\n",
       "    .dataframe tbody tr th {\n",
       "        vertical-align: top;\n",
       "    }\n",
       "\n",
       "    .dataframe thead th {\n",
       "        text-align: right;\n",
       "    }\n",
       "</style>\n",
       "<table border=\"1\" class=\"dataframe\">\n",
       "  <thead>\n",
       "    <tr style=\"text-align: right;\">\n",
       "      <th></th>\n",
       "      <th>aggregation</th>\n",
       "      <th>acc</th>\n",
       "      <th>f1</th>\n",
       "      <th>test_acc</th>\n",
       "      <th>test_f1</th>\n",
       "      <th>test_mean_acc</th>\n",
       "      <th>test_mean_f1</th>\n",
       "      <th>n_models</th>\n",
       "    </tr>\n",
       "  </thead>\n",
       "  <tbody>\n",
       "    <tr>\n",
       "      <th>0</th>\n",
       "      <td>ref</td>\n",
       "      <td>0.650000</td>\n",
       "      <td>0.780952</td>\n",
       "      <td>0.400000</td>\n",
       "      <td>0.571429</td>\n",
       "      <td>0.400000</td>\n",
       "      <td>0.571429</td>\n",
       "      <td>5</td>\n",
       "    </tr>\n",
       "    <tr>\n",
       "      <th>1</th>\n",
       "      <td>mean</td>\n",
       "      <td>0.950000</td>\n",
       "      <td>0.960000</td>\n",
       "      <td>1.000000</td>\n",
       "      <td>1.000000</td>\n",
       "      <td>0.920000</td>\n",
       "      <td>0.933333</td>\n",
       "      <td>5</td>\n",
       "    </tr>\n",
       "    <tr>\n",
       "      <th>2</th>\n",
       "      <td>mega</td>\n",
       "      <td>0.942857</td>\n",
       "      <td>0.954417</td>\n",
       "      <td>0.914286</td>\n",
       "      <td>0.903226</td>\n",
       "      <td>0.902857</td>\n",
       "      <td>0.894149</td>\n",
       "      <td>5</td>\n",
       "    </tr>\n",
       "  </tbody>\n",
       "</table>\n",
       "</div>"
      ],
      "text/plain": [
       "  aggregation       acc        f1  test_acc   test_f1  test_mean_acc  \\\n",
       "0         ref  0.650000  0.780952  0.400000  0.571429       0.400000   \n",
       "1        mean  0.950000  0.960000  1.000000  1.000000       0.920000   \n",
       "2        mega  0.942857  0.954417  0.914286  0.903226       0.902857   \n",
       "\n",
       "   test_mean_f1  n_models  \n",
       "0      0.571429         5  \n",
       "1      0.933333         5  \n",
       "2      0.894149         5  "
      ]
     },
     "execution_count": 19,
     "metadata": {},
     "output_type": "execute_result"
    }
   ],
   "source": [
    "clfmca_25.performance_report()"
   ]
  },
  {
   "cell_type": "code",
   "execution_count": null,
   "metadata": {},
   "outputs": [],
   "source": []
  }
 ],
 "metadata": {
  "kernelspec": {
   "display_name": "agg",
   "language": "python",
   "name": "agg"
  },
  "language_info": {
   "codemirror_mode": {
    "name": "ipython",
    "version": 3
   },
   "file_extension": ".py",
   "mimetype": "text/x-python",
   "name": "python",
   "nbconvert_exporter": "python",
   "pygments_lexer": "ipython3",
   "version": "3.7.3"
  }
 },
 "nbformat": 4,
 "nbformat_minor": 4
}
