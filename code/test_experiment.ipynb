{
 "cells": [
  {
   "cell_type": "code",
   "execution_count": 3,
   "metadata": {},
   "outputs": [],
   "source": [
    "from sklearn.pipeline import Pipeline\n",
    "from sklearn.decomposition import PCA\n",
    "from sklearn.svm import SVC\n",
    "from sklearn.linear_model import LogisticRegression\n",
    "from sklearn.ensemble import RandomForestClassifier\n",
    "\n",
    "import os.path as op\n",
    "import pandas as pd\n",
    "import numpy as np\n",
    "import os\n",
    "\n",
    "import matplotlib.pyplot as plt\n",
    "\n",
    "from utils import qcAggregate, unstratifiedSample\n",
    "from models import AggregateLearner\n",
    "\n",
    "%matplotlib inline"
   ]
  },
  {
   "cell_type": "markdown",
   "metadata": {},
   "source": [
    "### No Repeated Measures Experiment"
   ]
  },
  {
   "cell_type": "code",
   "execution_count": 4,
   "metadata": {},
   "outputs": [],
   "source": [
    "bp = '../data/'\n",
    "exp = '../figures/'\n",
    "bpp = op.join(bp, exp)\n",
    "try:\n",
    "    os.makedirs(bpp)\n",
    "except FileExistsError:\n",
    "    pass"
   ]
  },
  {
   "cell_type": "code",
   "execution_count": 3,
   "metadata": {},
   "outputs": [
    {
     "data": {
      "text/plain": [
       "Index(['subject', 'simulation', 'graph', 'sex'], dtype='object')"
      ]
     },
     "execution_count": 3,
     "metadata": {},
     "output_type": "execute_result"
    }
   ],
   "source": [
    "df_100 = pd.read_hdf('../data/aggregation_connect+feature+demo_dset100x1x1x20.h5')\n",
    "df_100.drop([\"edgecount\", \"globaleffic\", \"degree\", \"modularity\",\n",
    "             \"assort\", \"avplength\", \"weight\", \"ccoeff\", \"betweenness\",\n",
    "             \"plength\", \"age\", \"bmi\", \"cholesterol\", \"rel_vo2max\"], axis=1, inplace=True)\n",
    "df_100.columns"
   ]
  },
  {
   "cell_type": "code",
   "execution_count": 4,
   "metadata": {
    "scrolled": false
   },
   "outputs": [],
   "source": [
    "subs = list(df_100['subject'].unique())\n",
    "for idx, row in df_100.iterrows():    \n",
    "    # Replace graphs with some ID signal but a lot of common signal\n",
    "    np.random.seed(int(row.subject + row.sex+4))\n",
    "    g = 10*(np.random.random(row.graph.shape) - 0.5) + int(row.sex)*0.73\n",
    "    np.random.seed(422)\n",
    "    g += 20 * (np.random.random(row.graph.shape) - 0.2)\n",
    "    row['graph'] = g\n",
    "    df_100.iloc[idx] = row\n",
    "\n",
    "    del g"
   ]
  },
  {
   "cell_type": "code",
   "execution_count": 8,
   "metadata": {},
   "outputs": [
    {
     "data": {
      "text/plain": [
       "0       [[798.0, 87.0, 1.0, 140.0, 45.0, 0.0, 142.0, 7...\n",
       "1       [[665.0, 131.0, 0.0, 10.0, 24.0, 161.0, 1.0, 7...\n",
       "2       [[0.0, 0.0, 0.0, 0.0, 0.0, 0.0, 0.0, 0.0, 0.0,...\n",
       "3       [[1017.0, 124.0, 0.0, 88.0, 5.0, 2.0, 49.0, 8....\n",
       "4       [[717.0, 56.0, 2.0, 26.0, 6.0, 5.0, 28.0, 13.0...\n",
       "                              ...                        \n",
       "2052    [[1877.0, 391.0, 0.0, 308.0, 249.0, 2.0, 988.0...\n",
       "2053    [[464.0, 20.0, 37.0, 8.0, 43.0, 24.0, 87.0, 0....\n",
       "2054    [[387.0, 0.0, 0.0, 127.0, 57.0, 0.0, 47.0, 9.0...\n",
       "2055    [[248.0, 12.0, 0.0, 12.0, 3.0, 0.0, 0.0, 6.0, ...\n",
       "2056    [[67.0, 0.0, 0.0, 8.0, 2.0, 0.0, 5.0, 0.0, 0.0...\n",
       "Name: graph, Length: 2057, dtype: object"
      ]
     },
     "execution_count": 8,
     "metadata": {},
     "output_type": "execute_result"
    }
   ],
   "source": [
    "df_100.graph"
   ]
  },
  {
   "cell_type": "code",
   "execution_count": 9,
   "metadata": {
    "scrolled": false
   },
   "outputs": [],
   "source": [
    "pca = PCA(n_components=20)\n",
    "svc = SVC(kernel='linear', probability=True)\n",
    "pipe = Pipeline(steps=[('pca', pca), ('svc', svc)])\n",
    "\n",
    "# RS Determined as: 42, decrement until holdout was balanced by sex\n",
    "rs = 41\n",
    "clfmca_100 = AggregateLearner(df_100, pipe, target_id='sex',\n",
    "                              observation_id='simulation',\n",
    "                              sample_id='subject', data_id='graph',\n",
    "                              random_seed=rs, verbose=False, triu=True)"
   ]
  },
  {
   "cell_type": "code",
   "execution_count": 10,
   "metadata": {
    "scrolled": false
   },
   "outputs": [
    {
     "name": "stdout",
     "output_type": "stream",
     "text": [
      "CPU times: user 1min 34s, sys: 416 ms, total: 1min 34s\n",
      "Wall time: 1min 37s\n"
     ]
    }
   ],
   "source": [
    "%%time\n",
    "clfmca_100.fit(aggregation='ref')\n",
    "# clfmca_100.fit(aggregation='median')\n",
    "# clfmca_100.fit(aggregation='consensus')\n",
    "# clfmca_100.fit(aggregation='mean')\n",
    "# clfmca_100.fit(aggregation='mega')\n",
    "# clfmca_100.fit(aggregation='none')\n",
    "# clfmca_100.fit(aggregation='meta')"
   ]
  },
  {
   "cell_type": "code",
   "execution_count": 28,
   "metadata": {},
   "outputs": [
    {
     "data": {
      "text/plain": [
       "(227.9, 'hours')"
      ]
     },
     "execution_count": 28,
     "metadata": {},
     "output_type": "execute_result"
    }
   ],
   "source": [
    "t_per_ex = 1.7  # D100: 1min37s\n",
    "t_per_ex += 0.02  # D25: 1s\n",
    "n_classif = 3\n",
    "n_jack = 100\n",
    "n_agg = 7\n",
    "n_trains = n_agg - 1 + n_jack\n",
    "n_targets = 5\n",
    "mca_samples = [20, 15, 10, 5, 2]\n",
    "total_t = t_per_ex * n_classif * n_targets * n_trains * len(mca_samples)\n",
    "\n",
    "total_t/60, 'hours'"
   ]
  },
  {
   "cell_type": "code",
   "execution_count": null,
   "metadata": {},
   "outputs": [],
   "source": [
    "%%time\n",
    "clfmca_100.fit(aggregation='median')"
   ]
  },
  {
   "cell_type": "code",
   "execution_count": 24,
   "metadata": {},
   "outputs": [
    {
     "data": {
      "text/html": [
       "<div>\n",
       "<style scoped>\n",
       "    .dataframe tbody tr th:only-of-type {\n",
       "        vertical-align: middle;\n",
       "    }\n",
       "\n",
       "    .dataframe tbody tr th {\n",
       "        vertical-align: top;\n",
       "    }\n",
       "\n",
       "    .dataframe thead th {\n",
       "        text-align: right;\n",
       "    }\n",
       "</style>\n",
       "<table border=\"1\" class=\"dataframe\">\n",
       "  <thead>\n",
       "    <tr style=\"text-align: right;\">\n",
       "      <th></th>\n",
       "      <th>aggregation</th>\n",
       "      <th>acc</th>\n",
       "      <th>f1</th>\n",
       "      <th>test_acc</th>\n",
       "      <th>test_f1</th>\n",
       "      <th>test_mean_acc</th>\n",
       "      <th>test_mean_f1</th>\n",
       "      <th>n_models</th>\n",
       "    </tr>\n",
       "  </thead>\n",
       "  <tbody>\n",
       "    <tr>\n",
       "      <th>0</th>\n",
       "      <td>ref</td>\n",
       "      <td>0.911667</td>\n",
       "      <td>0.927948</td>\n",
       "      <td>0.947368</td>\n",
       "      <td>0.962963</td>\n",
       "      <td>0.842105</td>\n",
       "      <td>0.882268</td>\n",
       "      <td>5</td>\n",
       "    </tr>\n",
       "    <tr>\n",
       "      <th>1</th>\n",
       "      <td>median</td>\n",
       "      <td>0.911667</td>\n",
       "      <td>0.927948</td>\n",
       "      <td>0.947368</td>\n",
       "      <td>0.962963</td>\n",
       "      <td>0.842105</td>\n",
       "      <td>0.882268</td>\n",
       "      <td>5</td>\n",
       "    </tr>\n",
       "    <tr>\n",
       "      <th>2</th>\n",
       "      <td>consensus</td>\n",
       "      <td>0.911667</td>\n",
       "      <td>0.927948</td>\n",
       "      <td>0.947368</td>\n",
       "      <td>0.962963</td>\n",
       "      <td>0.810526</td>\n",
       "      <td>0.849659</td>\n",
       "      <td>5</td>\n",
       "    </tr>\n",
       "    <tr>\n",
       "      <th>3</th>\n",
       "      <td>mean</td>\n",
       "      <td>0.911667</td>\n",
       "      <td>0.927948</td>\n",
       "      <td>0.947368</td>\n",
       "      <td>0.962963</td>\n",
       "      <td>0.842105</td>\n",
       "      <td>0.882268</td>\n",
       "      <td>5</td>\n",
       "    </tr>\n",
       "    <tr>\n",
       "      <th>4</th>\n",
       "      <td>mega</td>\n",
       "      <td>0.911667</td>\n",
       "      <td>0.927133</td>\n",
       "      <td>0.894737</td>\n",
       "      <td>0.923077</td>\n",
       "      <td>0.800000</td>\n",
       "      <td>0.848889</td>\n",
       "      <td>5</td>\n",
       "    </tr>\n",
       "    <tr>\n",
       "      <th>5</th>\n",
       "      <td>none</td>\n",
       "      <td>0.909042</td>\n",
       "      <td>0.925485</td>\n",
       "      <td>0.922632</td>\n",
       "      <td>0.944328</td>\n",
       "      <td>0.826737</td>\n",
       "      <td>0.868804</td>\n",
       "      <td>500</td>\n",
       "    </tr>\n",
       "    <tr>\n",
       "      <th>6</th>\n",
       "      <td>meta</td>\n",
       "      <td>0.899167</td>\n",
       "      <td>0.918475</td>\n",
       "      <td>0.894737</td>\n",
       "      <td>0.923077</td>\n",
       "      <td>0.842105</td>\n",
       "      <td>0.883009</td>\n",
       "      <td>5</td>\n",
       "    </tr>\n",
       "  </tbody>\n",
       "</table>\n",
       "</div>"
      ],
      "text/plain": [
       "  aggregation       acc        f1  test_acc   test_f1  test_mean_acc  \\\n",
       "0         ref  0.911667  0.927948  0.947368  0.962963       0.842105   \n",
       "1      median  0.911667  0.927948  0.947368  0.962963       0.842105   \n",
       "2   consensus  0.911667  0.927948  0.947368  0.962963       0.810526   \n",
       "3        mean  0.911667  0.927948  0.947368  0.962963       0.842105   \n",
       "4        mega  0.911667  0.927133  0.894737  0.923077       0.800000   \n",
       "5        none  0.909042  0.925485  0.922632  0.944328       0.826737   \n",
       "6        meta  0.899167  0.918475  0.894737  0.923077       0.842105   \n",
       "\n",
       "   test_mean_f1  n_models  \n",
       "0      0.882268         5  \n",
       "1      0.882268         5  \n",
       "2      0.849659         5  \n",
       "3      0.882268         5  \n",
       "4      0.848889         5  \n",
       "5      0.868804       500  \n",
       "6      0.883009         5  "
      ]
     },
     "execution_count": 24,
     "metadata": {},
     "output_type": "execute_result"
    }
   ],
   "source": [
    "clfmca_100.performance_report()"
   ]
  },
  {
   "cell_type": "markdown",
   "metadata": {},
   "source": [
    "### Repeated Measures Experiment"
   ]
  },
  {
   "cell_type": "code",
   "execution_count": 5,
   "metadata": {},
   "outputs": [
    {
     "data": {
      "text/plain": [
       "Index(['subsample', 'graph', 'session', 'simulation', 'subject', 'age', 'sex',\n",
       "       'bmi', 'cholesterol', 'rel_vo2max'],\n",
       "      dtype='object')"
      ]
     },
     "execution_count": 5,
     "metadata": {},
     "output_type": "execute_result"
    }
   ],
   "source": [
    "df_25 = pd.read_hdf('../data/aggregation_connect+demo_dset25x2x2x20.h5')\n",
    "# df_25.drop([\"age\", \"bmi\", \"cholesterol\", \"rel_vo2max\"], axis=1, inplace=True)\n",
    "df_25.columns"
   ]
  },
  {
   "cell_type": "code",
   "execution_count": 6,
   "metadata": {},
   "outputs": [],
   "source": [
    "subs = list(df_25['subject'].unique())\n",
    "\n",
    "np.random.seed(1234567890)\n",
    "for idx, row in df_25.iterrows():    \n",
    "    # Replace graphs with some ID signal but a lot of common signal\n",
    "#     np.random.seed(row.subject*(row.session+1) + row.sex + 4)\n",
    "    g = 10*(np.random.random(row.graph.shape) - 0.5) + int(row.sex)*0.7\n",
    "#     np.random.seed(422)\n",
    "    g += 20 * (np.random.random(row.graph.shape) - 0.2)\n",
    "    row['graph'] = g\n",
    "    df_25.iloc[idx] = row\n",
    "    del g"
   ]
  },
  {
   "cell_type": "code",
   "execution_count": 7,
   "metadata": {},
   "outputs": [
    {
     "data": {
      "text/plain": [
       "0       [[14.793140221040614, 7.972560738515426, 2.514...\n",
       "1       [[2.3801033199545607, 18.849329436871756, 11.1...\n",
       "2       [[14.629131659346623, 1.383584067810371, 17.43...\n",
       "3       [[3.609143108436224, 0.9104843796529809, 6.857...\n",
       "4       [[8.397275737397655, 12.473016254439427, 4.348...\n",
       "                              ...                        \n",
       "2095    [[-0.7025835451650368, 17.175273695207046, 3.0...\n",
       "2096    [[0.354784558152363, -3.589410212641905, 8.667...\n",
       "2097    [[12.16770423548934, 6.631674281395401, 13.667...\n",
       "2098    [[-3.0842302978971303, 10.01293488093115, 7.40...\n",
       "2099    [[-1.6813894838022103, 13.650586204939676, 9.0...\n",
       "Name: graph, Length: 2100, dtype: object"
      ]
     },
     "execution_count": 7,
     "metadata": {},
     "output_type": "execute_result"
    }
   ],
   "source": [
    "df_25.graph"
   ]
  },
  {
   "cell_type": "code",
   "execution_count": 8,
   "metadata": {},
   "outputs": [
    {
     "name": "stdout",
     "output_type": "stream",
     "text": [
      "525\n",
      "50\n",
      "50\n"
     ]
    }
   ],
   "source": [
    "df_25mca = df_25.query('subsample == 0 and session == 0')\n",
    "print(len(df_25mca))\n",
    "\n",
    "df_25sub = df_25.query('simulation == \"ref\" and session == 0')\n",
    "print(len(df_25sub))\n",
    "\n",
    "df_25ses = df_25.query('simulation == \"ref\" and subsample == 0')\n",
    "print(len(df_25ses))"
   ]
  },
  {
   "cell_type": "code",
   "execution_count": 9,
   "metadata": {},
   "outputs": [],
   "source": [
    "pca = PCA(n_components=15)\n",
    "svc = SVC(kernel='linear', probability=True)\n",
    "pipe = Pipeline(steps=[('pca', pca), ('svc', svc)])\n",
    "\n",
    "# RS Determined as: 42, increment until holdout was balanced by sex\n",
    "rs = 45\n",
    "clfmca_25 = AggregateLearner(df_25ses, pipe, target_id='age',\n",
    "                             observation_id='simulation',\n",
    "                             sample_id='subject', data_id='graph',\n",
    "                             random_seed=rs, verbose=False, oos=0.2,\n",
    "                             cvfolds=5, triu=True)"
   ]
  },
  {
   "cell_type": "code",
   "execution_count": 10,
   "metadata": {},
   "outputs": [
    {
     "data": {
      "text/plain": [
       "([array([1., 1.]),\n",
       "  array([0., 0.]),\n",
       "  array([0., 0.]),\n",
       "  array([1., 1.]),\n",
       "  array([1., 1.]),\n",
       "  array([1., 1.]),\n",
       "  array([0., 0.]),\n",
       "  array([0., 0.]),\n",
       "  array([0., 0.]),\n",
       "  array([0., 0.]),\n",
       "  array([1., 1.]),\n",
       "  array([0., 0.]),\n",
       "  array([0., 0.]),\n",
       "  array([0., 0.]),\n",
       "  array([1., 1.]),\n",
       "  array([1., 1.]),\n",
       "  array([0., 0.]),\n",
       "  array([1., 1.]),\n",
       "  array([0., 0.]),\n",
       "  array([0., 0.])],\n",
       " [array([0., 0.]),\n",
       "  array([1., 1.]),\n",
       "  array([0., 0.]),\n",
       "  array([1., 1.]),\n",
       "  array([0., 0.])])"
      ]
     },
     "execution_count": 10,
     "metadata": {},
     "output_type": "execute_result"
    }
   ],
   "source": [
    "clfmca_25.tar, clfmca_25.tar_t"
   ]
  },
  {
   "cell_type": "code",
   "execution_count": 11,
   "metadata": {
    "scrolled": false
   },
   "outputs": [
    {
     "name": "stdout",
     "output_type": "stream",
     "text": [
      "CPU times: user 26.7 s, sys: 920 ms, total: 27.6 s\n",
      "Wall time: 22.5 s\n"
     ]
    }
   ],
   "source": [
    "%%time\n",
    "clfmca_25.fit(aggregation='ref')\n",
    "clfmca_25.fit(aggregation='median')\n",
    "clfmca_25.fit(aggregation='consensus')\n",
    "clfmca_25.fit(aggregation='mean')\n",
    "clfmca_25.fit(aggregation='mega')\n",
    "clfmca_25.fit(aggregation='none')\n",
    "clfmca_25.fit(aggregation='meta')"
   ]
  },
  {
   "cell_type": "code",
   "execution_count": 12,
   "metadata": {},
   "outputs": [
    {
     "data": {
      "text/html": [
       "<div>\n",
       "<style scoped>\n",
       "    .dataframe tbody tr th:only-of-type {\n",
       "        vertical-align: middle;\n",
       "    }\n",
       "\n",
       "    .dataframe tbody tr th {\n",
       "        vertical-align: top;\n",
       "    }\n",
       "\n",
       "    .dataframe thead th {\n",
       "        text-align: right;\n",
       "    }\n",
       "</style>\n",
       "<table border=\"1\" class=\"dataframe\">\n",
       "  <thead>\n",
       "    <tr style=\"text-align: right;\">\n",
       "      <th></th>\n",
       "      <th>aggregation</th>\n",
       "      <th>acc</th>\n",
       "      <th>f1</th>\n",
       "      <th>test_acc</th>\n",
       "      <th>test_f1</th>\n",
       "      <th>test_mean_acc</th>\n",
       "      <th>test_mean_f1</th>\n",
       "      <th>n_models</th>\n",
       "    </tr>\n",
       "  </thead>\n",
       "  <tbody>\n",
       "    <tr>\n",
       "      <th>0</th>\n",
       "      <td>ref</td>\n",
       "      <td>0.5750</td>\n",
       "      <td>0.000000</td>\n",
       "      <td>0.60</td>\n",
       "      <td>0.000000</td>\n",
       "      <td>0.6200</td>\n",
       "      <td>0.114286</td>\n",
       "      <td>5</td>\n",
       "    </tr>\n",
       "    <tr>\n",
       "      <th>1</th>\n",
       "      <td>median</td>\n",
       "      <td>0.6000</td>\n",
       "      <td>0.000000</td>\n",
       "      <td>0.60</td>\n",
       "      <td>0.500000</td>\n",
       "      <td>0.6000</td>\n",
       "      <td>0.000000</td>\n",
       "      <td>5</td>\n",
       "    </tr>\n",
       "    <tr>\n",
       "      <th>2</th>\n",
       "      <td>consensus</td>\n",
       "      <td>0.6000</td>\n",
       "      <td>0.000000</td>\n",
       "      <td>0.80</td>\n",
       "      <td>0.800000</td>\n",
       "      <td>0.6000</td>\n",
       "      <td>0.000000</td>\n",
       "      <td>5</td>\n",
       "    </tr>\n",
       "    <tr>\n",
       "      <th>3</th>\n",
       "      <td>mean</td>\n",
       "      <td>0.6000</td>\n",
       "      <td>0.000000</td>\n",
       "      <td>0.60</td>\n",
       "      <td>0.500000</td>\n",
       "      <td>0.6000</td>\n",
       "      <td>0.000000</td>\n",
       "      <td>5</td>\n",
       "    </tr>\n",
       "    <tr>\n",
       "      <th>4</th>\n",
       "      <td>mega</td>\n",
       "      <td>0.5750</td>\n",
       "      <td>0.000000</td>\n",
       "      <td>0.60</td>\n",
       "      <td>0.000000</td>\n",
       "      <td>0.6200</td>\n",
       "      <td>0.114286</td>\n",
       "      <td>5</td>\n",
       "    </tr>\n",
       "    <tr>\n",
       "      <th>5</th>\n",
       "      <td>none</td>\n",
       "      <td>0.5945</td>\n",
       "      <td>0.009333</td>\n",
       "      <td>0.57</td>\n",
       "      <td>0.288333</td>\n",
       "      <td>0.5952</td>\n",
       "      <td>0.001333</td>\n",
       "      <td>500</td>\n",
       "    </tr>\n",
       "    <tr>\n",
       "      <th>6</th>\n",
       "      <td>meta</td>\n",
       "      <td>0.6500</td>\n",
       "      <td>0.673333</td>\n",
       "      <td>0.49</td>\n",
       "      <td>0.225000</td>\n",
       "      <td>0.4860</td>\n",
       "      <td>0.293667</td>\n",
       "      <td>5</td>\n",
       "    </tr>\n",
       "  </tbody>\n",
       "</table>\n",
       "</div>"
      ],
      "text/plain": [
       "  aggregation     acc        f1  test_acc   test_f1  test_mean_acc  \\\n",
       "0         ref  0.5750  0.000000      0.60  0.000000         0.6200   \n",
       "1      median  0.6000  0.000000      0.60  0.500000         0.6000   \n",
       "2   consensus  0.6000  0.000000      0.80  0.800000         0.6000   \n",
       "3        mean  0.6000  0.000000      0.60  0.500000         0.6000   \n",
       "4        mega  0.5750  0.000000      0.60  0.000000         0.6200   \n",
       "5        none  0.5945  0.009333      0.57  0.288333         0.5952   \n",
       "6        meta  0.6500  0.673333      0.49  0.225000         0.4860   \n",
       "\n",
       "   test_mean_f1  n_models  \n",
       "0      0.114286         5  \n",
       "1      0.000000         5  \n",
       "2      0.000000         5  \n",
       "3      0.000000         5  \n",
       "4      0.114286         5  \n",
       "5      0.001333       500  \n",
       "6      0.293667         5  "
      ]
     },
     "execution_count": 12,
     "metadata": {},
     "output_type": "execute_result"
    }
   ],
   "source": [
    "clfmca_25.performance_report()"
   ]
  },
  {
   "cell_type": "code",
   "execution_count": 13,
   "metadata": {},
   "outputs": [
    {
     "data": {
      "text/plain": [
       "{'true': array([0., 1., 0., 1., 0.]),\n",
       " 'pred': array([0., 1., 1., 1., 0.]),\n",
       " 'acc': 0.8,\n",
       " 'f1': 0.8,\n",
       " 'comp_acc': 0.6,\n",
       " 'comp_f1': 0.0}"
      ]
     },
     "execution_count": 13,
     "metadata": {},
     "output_type": "execute_result"
    }
   ],
   "source": [
    "clfmca_25.oos_perf['consensus']"
   ]
  },
  {
   "cell_type": "code",
   "execution_count": 17,
   "metadata": {},
   "outputs": [],
   "source": [
    "lrc = LogisticRegression(solver='liblinear')\n",
    "pipe = Pipeline(steps=[('pca', pca), ('lrc', lrc)])\n",
    "\n",
    "# RS Determined as: 42, increment until holdout was balanced by sex\n",
    "rs = 45\n",
    "clfmca_25 = AggregateLearner(df_25sub, pipe, target_id='sex',\n",
    "                             observation_id='simulation',\n",
    "                             sample_id='subject', data_id='graph',\n",
    "                             random_seed=rs, verbose=False, oos=0.2,\n",
    "                             cvfolds=5, triu=True)"
   ]
  },
  {
   "cell_type": "code",
   "execution_count": 18,
   "metadata": {},
   "outputs": [
    {
     "name": "stdout",
     "output_type": "stream",
     "text": [
      "CPU times: user 207 ms, sys: 33.6 ms, total: 241 ms\n",
      "Wall time: 101 ms\n"
     ]
    }
   ],
   "source": [
    "%%time\n",
    "clfmca_25.fit(aggregation='ref')\n",
    "# clfmca_25.fit(aggregation='median')\n",
    "# clfmca_25.fit(aggregation='consensus')\n",
    "# clfmca_25.fit(aggregation='mean')\n",
    "# clfmca_25.fit(aggregation='mega')\n",
    "# clfmca_25.fit(aggregation='none')\n",
    "# clfmca_25.fit(aggregation='meta')"
   ]
  },
  {
   "cell_type": "code",
   "execution_count": 39,
   "metadata": {},
   "outputs": [
    {
     "data": {
      "text/html": [
       "<div>\n",
       "<style scoped>\n",
       "    .dataframe tbody tr th:only-of-type {\n",
       "        vertical-align: middle;\n",
       "    }\n",
       "\n",
       "    .dataframe tbody tr th {\n",
       "        vertical-align: top;\n",
       "    }\n",
       "\n",
       "    .dataframe thead th {\n",
       "        text-align: right;\n",
       "    }\n",
       "</style>\n",
       "<table border=\"1\" class=\"dataframe\">\n",
       "  <thead>\n",
       "    <tr style=\"text-align: right;\">\n",
       "      <th></th>\n",
       "      <th>aggregation</th>\n",
       "      <th>acc</th>\n",
       "      <th>f1</th>\n",
       "      <th>test_acc</th>\n",
       "      <th>test_f1</th>\n",
       "      <th>test_mean_acc</th>\n",
       "      <th>test_mean_f1</th>\n",
       "      <th>n_models</th>\n",
       "    </tr>\n",
       "  </thead>\n",
       "  <tbody>\n",
       "    <tr>\n",
       "      <th>0</th>\n",
       "      <td>ref</td>\n",
       "      <td>0.79</td>\n",
       "      <td>0.850216</td>\n",
       "      <td>0.75</td>\n",
       "      <td>0.8</td>\n",
       "      <td>0.65</td>\n",
       "      <td>0.72</td>\n",
       "      <td>5</td>\n",
       "    </tr>\n",
       "    <tr>\n",
       "      <th>1</th>\n",
       "      <td>mean</td>\n",
       "      <td>0.92</td>\n",
       "      <td>0.933333</td>\n",
       "      <td>0.75</td>\n",
       "      <td>0.8</td>\n",
       "      <td>0.75</td>\n",
       "      <td>0.78</td>\n",
       "      <td>5</td>\n",
       "    </tr>\n",
       "    <tr>\n",
       "      <th>2</th>\n",
       "      <td>mega</td>\n",
       "      <td>0.79</td>\n",
       "      <td>0.850216</td>\n",
       "      <td>0.75</td>\n",
       "      <td>0.8</td>\n",
       "      <td>0.65</td>\n",
       "      <td>0.72</td>\n",
       "      <td>5</td>\n",
       "    </tr>\n",
       "  </tbody>\n",
       "</table>\n",
       "</div>"
      ],
      "text/plain": [
       "  aggregation   acc        f1  test_acc  test_f1  test_mean_acc  test_mean_f1  \\\n",
       "0         ref  0.79  0.850216      0.75      0.8           0.65          0.72   \n",
       "1        mean  0.92  0.933333      0.75      0.8           0.75          0.78   \n",
       "2        mega  0.79  0.850216      0.75      0.8           0.65          0.72   \n",
       "\n",
       "   n_models  \n",
       "0         5  \n",
       "1         5  \n",
       "2         5  "
      ]
     },
     "execution_count": 39,
     "metadata": {},
     "output_type": "execute_result"
    }
   ],
   "source": [
    "clfmca_25.performance_report()"
   ]
  },
  {
   "cell_type": "code",
   "execution_count": 40,
   "metadata": {},
   "outputs": [],
   "source": [
    "rfc = RandomForestClassifier()\n",
    "pipe = Pipeline(steps=[('pca', pca), ('rfc', rfc)])\n",
    "\n",
    "# RS Determined as: 42, increment until holdout was balanced by sex\n",
    "rs = 43\n",
    "clfmca_25 = AggregateLearner(df_25mca, pipe, target_id='sex',\n",
    "                             observation_id='simulation',\n",
    "                             sample_id='subject', data_id='graph',\n",
    "                             random_seed=rs, verbose=False, oos=0.2,\n",
    "                             cvfolds=5, triu=True)"
   ]
  },
  {
   "cell_type": "code",
   "execution_count": 41,
   "metadata": {},
   "outputs": [],
   "source": [
    "clfmca_25.fit(aggregation='ref')\n",
    "# clfmca_25.fit(aggregation='median')\n",
    "# clfmca_25.fit(aggregation='consensus')\n",
    "clfmca_25.fit(aggregation='mean')\n",
    "clfmca_25.fit(aggregation='mega')\n",
    "# clfmca_25.fit(aggregation='none')\n",
    "# clfmca_25.fit(aggregation='meta')"
   ]
  },
  {
   "cell_type": "code",
   "execution_count": 35,
   "metadata": {},
   "outputs": [
    {
     "data": {
      "text/plain": [
       "[array([2., 2.]), array([1., 1.]), array([1., 1.]), array([2., 2.])]"
      ]
     },
     "execution_count": 35,
     "metadata": {},
     "output_type": "execute_result"
    }
   ],
   "source": [
    "clfmca_25.tar_t"
   ]
  },
  {
   "cell_type": "code",
   "execution_count": 37,
   "metadata": {},
   "outputs": [],
   "source": [
    "clfmca_25.performance_report().to_csv('~/Desktop/tmp.csv', index=False)"
   ]
  },
  {
   "cell_type": "code",
   "execution_count": 33,
   "metadata": {},
   "outputs": [
    {
     "data": {
      "text/plain": [
       "int"
      ]
     },
     "execution_count": 33,
     "metadata": {},
     "output_type": "execute_result"
    }
   ],
   "source": [
    "type(df_25mca.session.values[0])"
   ]
  },
  {
   "cell_type": "code",
   "execution_count": 38,
   "metadata": {},
   "outputs": [
    {
     "data": {
      "text/plain": [
       "'report_mca_full_meta_age_RF_41'"
      ]
     },
     "execution_count": 38,
     "metadata": {},
     "output_type": "execute_result"
    }
   ],
   "source": [
    "experiment_pieces = ['mca_full', 'meta', 'age', 'RF', '41']\n",
    "\"report_\"+\"_\".join(experiment_pieces)"
   ]
  },
  {
   "cell_type": "code",
   "execution_count": 51,
   "metadata": {},
   "outputs": [
    {
     "data": {
      "text/html": [
       "<div>\n",
       "<style scoped>\n",
       "    .dataframe tbody tr th:only-of-type {\n",
       "        vertical-align: middle;\n",
       "    }\n",
       "\n",
       "    .dataframe tbody tr th {\n",
       "        vertical-align: top;\n",
       "    }\n",
       "\n",
       "    .dataframe thead th {\n",
       "        text-align: right;\n",
       "    }\n",
       "</style>\n",
       "<table border=\"1\" class=\"dataframe\">\n",
       "  <thead>\n",
       "    <tr style=\"text-align: right;\">\n",
       "      <th></th>\n",
       "      <th>subsample</th>\n",
       "      <th>graph</th>\n",
       "      <th>session</th>\n",
       "      <th>simulation</th>\n",
       "      <th>subject</th>\n",
       "      <th>sex</th>\n",
       "    </tr>\n",
       "  </thead>\n",
       "  <tbody>\n",
       "    <tr>\n",
       "      <th>603</th>\n",
       "      <td>0</td>\n",
       "      <td>[[1307.0, 174.0, 4.0, 209.0, 41.0, 0.0, 179.0,...</td>\n",
       "      <td>0</td>\n",
       "      <td>sim-1</td>\n",
       "      <td>0</td>\n",
       "      <td>2.0</td>\n",
       "    </tr>\n",
       "    <tr>\n",
       "      <th>1303</th>\n",
       "      <td>0</td>\n",
       "      <td>[[2090.0, 299.0, 2.0, 371.0, 76.0, 0.0, 290.0,...</td>\n",
       "      <td>0</td>\n",
       "      <td>sim-18</td>\n",
       "      <td>0</td>\n",
       "      <td>2.0</td>\n",
       "    </tr>\n",
       "    <tr>\n",
       "      <th>703</th>\n",
       "      <td>0</td>\n",
       "      <td>[[2003.0, 279.0, 4.0, 342.0, 51.0, 0.0, 282.0,...</td>\n",
       "      <td>0</td>\n",
       "      <td>sim-14</td>\n",
       "      <td>0</td>\n",
       "      <td>2.0</td>\n",
       "    </tr>\n",
       "    <tr>\n",
       "      <th>903</th>\n",
       "      <td>0</td>\n",
       "      <td>[[2034.0, 282.0, 4.0, 331.0, 74.0, 0.0, 275.0,...</td>\n",
       "      <td>0</td>\n",
       "      <td>sim-2</td>\n",
       "      <td>0</td>\n",
       "      <td>2.0</td>\n",
       "    </tr>\n",
       "    <tr>\n",
       "      <th>1403</th>\n",
       "      <td>0</td>\n",
       "      <td>[[1307.0, 174.0, 4.0, 209.0, 41.0, 0.0, 179.0,...</td>\n",
       "      <td>0</td>\n",
       "      <td>sim-7</td>\n",
       "      <td>0</td>\n",
       "      <td>2.0</td>\n",
       "    </tr>\n",
       "    <tr>\n",
       "      <th>...</th>\n",
       "      <td>...</td>\n",
       "      <td>...</td>\n",
       "      <td>...</td>\n",
       "      <td>...</td>\n",
       "      <td>...</td>\n",
       "      <td>...</td>\n",
       "    </tr>\n",
       "    <tr>\n",
       "      <th>97</th>\n",
       "      <td>0</td>\n",
       "      <td>[[414.0, 38.0, 35.0, 0.0, 32.0, 12.0, 94.0, 0....</td>\n",
       "      <td>0</td>\n",
       "      <td>sim-8</td>\n",
       "      <td>24</td>\n",
       "      <td>2.0</td>\n",
       "    </tr>\n",
       "    <tr>\n",
       "      <th>597</th>\n",
       "      <td>0</td>\n",
       "      <td>[[279.0, 24.0, 25.0, 0.0, 21.0, 8.0, 62.0, 0.0...</td>\n",
       "      <td>0</td>\n",
       "      <td>sim-17</td>\n",
       "      <td>24</td>\n",
       "      <td>2.0</td>\n",
       "    </tr>\n",
       "    <tr>\n",
       "      <th>697</th>\n",
       "      <td>0</td>\n",
       "      <td>[[608.0, 49.0, 51.0, 0.0, 50.0, 15.0, 144.0, 0...</td>\n",
       "      <td>0</td>\n",
       "      <td>sim-1</td>\n",
       "      <td>24</td>\n",
       "      <td>2.0</td>\n",
       "    </tr>\n",
       "    <tr>\n",
       "      <th>1597</th>\n",
       "      <td>0</td>\n",
       "      <td>[[414.0, 38.0, 35.0, 0.0, 32.0, 12.0, 94.0, 0....</td>\n",
       "      <td>0</td>\n",
       "      <td>sim-6</td>\n",
       "      <td>24</td>\n",
       "      <td>2.0</td>\n",
       "    </tr>\n",
       "    <tr>\n",
       "      <th>797</th>\n",
       "      <td>0</td>\n",
       "      <td>[[414.0, 38.0, 35.0, 0.0, 32.0, 12.0, 94.0, 0....</td>\n",
       "      <td>0</td>\n",
       "      <td>sim-14</td>\n",
       "      <td>24</td>\n",
       "      <td>2.0</td>\n",
       "    </tr>\n",
       "  </tbody>\n",
       "</table>\n",
       "<p>125 rows × 6 columns</p>\n",
       "</div>"
      ],
      "text/plain": [
       "     subsample                                              graph session  \\\n",
       "603          0  [[1307.0, 174.0, 4.0, 209.0, 41.0, 0.0, 179.0,...       0   \n",
       "1303         0  [[2090.0, 299.0, 2.0, 371.0, 76.0, 0.0, 290.0,...       0   \n",
       "703          0  [[2003.0, 279.0, 4.0, 342.0, 51.0, 0.0, 282.0,...       0   \n",
       "903          0  [[2034.0, 282.0, 4.0, 331.0, 74.0, 0.0, 275.0,...       0   \n",
       "1403         0  [[1307.0, 174.0, 4.0, 209.0, 41.0, 0.0, 179.0,...       0   \n",
       "...        ...                                                ...     ...   \n",
       "97           0  [[414.0, 38.0, 35.0, 0.0, 32.0, 12.0, 94.0, 0....       0   \n",
       "597          0  [[279.0, 24.0, 25.0, 0.0, 21.0, 8.0, 62.0, 0.0...       0   \n",
       "697          0  [[608.0, 49.0, 51.0, 0.0, 50.0, 15.0, 144.0, 0...       0   \n",
       "1597         0  [[414.0, 38.0, 35.0, 0.0, 32.0, 12.0, 94.0, 0....       0   \n",
       "797          0  [[414.0, 38.0, 35.0, 0.0, 32.0, 12.0, 94.0, 0....       0   \n",
       "\n",
       "     simulation subject  sex  \n",
       "603       sim-1       0  2.0  \n",
       "1303     sim-18       0  2.0  \n",
       "703      sim-14       0  2.0  \n",
       "903       sim-2       0  2.0  \n",
       "1403      sim-7       0  2.0  \n",
       "...         ...     ...  ...  \n",
       "97        sim-8      24  2.0  \n",
       "597      sim-17      24  2.0  \n",
       "697       sim-1      24  2.0  \n",
       "1597      sim-6      24  2.0  \n",
       "797      sim-14      24  2.0  \n",
       "\n",
       "[125 rows x 6 columns]"
      ]
     },
     "execution_count": 51,
     "metadata": {},
     "output_type": "execute_result"
    }
   ],
   "source": [
    "n_mca = 5\n",
    "rs = 41\n",
    "for idx, sub in enumerate(df_25mca['subject'].unique()):\n",
    "    tdf = df_25mca.query(\"subject == {0}\".format(sub))\n",
    "    if idx == 0:\n",
    "        newdf = tdf.sample(n=n_mca, axis=0)\n",
    "    else:\n",
    "        newdf = pd.concat([newdf, tdf.sample(n=n_mca, axis=0)])\n",
    "newdf"
   ]
  },
  {
   "cell_type": "code",
   "execution_count": 54,
   "metadata": {},
   "outputs": [
    {
     "data": {
      "text/html": [
       "<div>\n",
       "<style scoped>\n",
       "    .dataframe tbody tr th:only-of-type {\n",
       "        vertical-align: middle;\n",
       "    }\n",
       "\n",
       "    .dataframe tbody tr th {\n",
       "        vertical-align: top;\n",
       "    }\n",
       "\n",
       "    .dataframe thead th {\n",
       "        text-align: right;\n",
       "    }\n",
       "</style>\n",
       "<table border=\"1\" class=\"dataframe\">\n",
       "  <thead>\n",
       "    <tr style=\"text-align: right;\">\n",
       "      <th></th>\n",
       "      <th>subsample</th>\n",
       "      <th>graph</th>\n",
       "      <th>session</th>\n",
       "      <th>simulation</th>\n",
       "      <th>subject</th>\n",
       "      <th>sex</th>\n",
       "    </tr>\n",
       "  </thead>\n",
       "  <tbody>\n",
       "    <tr>\n",
       "      <th>1703</th>\n",
       "      <td>0</td>\n",
       "      <td>[[890.0, 117.0, 2.0, 143.0, 35.0, 0.0, 125.0, ...</td>\n",
       "      <td>0</td>\n",
       "      <td>ref</td>\n",
       "      <td>0</td>\n",
       "      <td>2.0</td>\n",
       "    </tr>\n",
       "    <tr>\n",
       "      <th>1704</th>\n",
       "      <td>0</td>\n",
       "      <td>[[0.0, 0.0, 0.0, 0.0, 0.0, 0.0, 0.0, 0.0, 0.0,...</td>\n",
       "      <td>0</td>\n",
       "      <td>ref</td>\n",
       "      <td>1</td>\n",
       "      <td>2.0</td>\n",
       "    </tr>\n",
       "    <tr>\n",
       "      <th>1708</th>\n",
       "      <td>0</td>\n",
       "      <td>[[679.0, 84.0, 0.0, 48.0, 8.0, 0.0, 32.0, 10.0...</td>\n",
       "      <td>0</td>\n",
       "      <td>ref</td>\n",
       "      <td>2</td>\n",
       "      <td>1.0</td>\n",
       "    </tr>\n",
       "    <tr>\n",
       "      <th>1715</th>\n",
       "      <td>0</td>\n",
       "      <td>[[0.0, 0.0, 0.0, 0.0, 0.0, 0.0, 0.0, 0.0, 0.0,...</td>\n",
       "      <td>0</td>\n",
       "      <td>ref</td>\n",
       "      <td>3</td>\n",
       "      <td>2.0</td>\n",
       "    </tr>\n",
       "    <tr>\n",
       "      <th>1718</th>\n",
       "      <td>0</td>\n",
       "      <td>[[0.0, 0.0, 0.0, 0.0, 0.0, 0.0, 0.0, 0.0, 0.0,...</td>\n",
       "      <td>0</td>\n",
       "      <td>ref</td>\n",
       "      <td>4</td>\n",
       "      <td>1.0</td>\n",
       "    </tr>\n",
       "    <tr>\n",
       "      <th>1722</th>\n",
       "      <td>0</td>\n",
       "      <td>[[514.0, 20.0, 0.0, 0.0, 35.0, 64.0, 207.0, 0....</td>\n",
       "      <td>0</td>\n",
       "      <td>ref</td>\n",
       "      <td>5</td>\n",
       "      <td>2.0</td>\n",
       "    </tr>\n",
       "    <tr>\n",
       "      <th>1726</th>\n",
       "      <td>0</td>\n",
       "      <td>[[0.0, 0.0, 0.0, 0.0, 0.0, 0.0, 0.0, 0.0, 0.0,...</td>\n",
       "      <td>0</td>\n",
       "      <td>ref</td>\n",
       "      <td>6</td>\n",
       "      <td>1.0</td>\n",
       "    </tr>\n",
       "    <tr>\n",
       "      <th>1730</th>\n",
       "      <td>0</td>\n",
       "      <td>[[0.0, 0.0, 0.0, 0.0, 0.0, 0.0, 0.0, 0.0, 0.0,...</td>\n",
       "      <td>0</td>\n",
       "      <td>ref</td>\n",
       "      <td>7</td>\n",
       "      <td>2.0</td>\n",
       "    </tr>\n",
       "    <tr>\n",
       "      <th>1735</th>\n",
       "      <td>0</td>\n",
       "      <td>[[652.0, 94.0, 0.0, 35.0, 7.0, 0.0, 1.0, 11.0,...</td>\n",
       "      <td>0</td>\n",
       "      <td>ref</td>\n",
       "      <td>8</td>\n",
       "      <td>1.0</td>\n",
       "    </tr>\n",
       "    <tr>\n",
       "      <th>1738</th>\n",
       "      <td>0</td>\n",
       "      <td>[[387.0, 75.0, 23.0, 3.0, 8.0, 23.0, 44.0, 8.0...</td>\n",
       "      <td>0</td>\n",
       "      <td>ref</td>\n",
       "      <td>9</td>\n",
       "      <td>1.0</td>\n",
       "    </tr>\n",
       "    <tr>\n",
       "      <th>1740</th>\n",
       "      <td>0</td>\n",
       "      <td>[[408.0, 3.0, 0.0, 47.0, 6.0, 14.0, 4.0, 1.0, ...</td>\n",
       "      <td>0</td>\n",
       "      <td>ref</td>\n",
       "      <td>10</td>\n",
       "      <td>1.0</td>\n",
       "    </tr>\n",
       "    <tr>\n",
       "      <th>1744</th>\n",
       "      <td>0</td>\n",
       "      <td>[[228.0, 0.0, 0.0, 22.0, 57.0, 1.0, 26.0, 4.0,...</td>\n",
       "      <td>0</td>\n",
       "      <td>ref</td>\n",
       "      <td>11</td>\n",
       "      <td>1.0</td>\n",
       "    </tr>\n",
       "    <tr>\n",
       "      <th>1748</th>\n",
       "      <td>0</td>\n",
       "      <td>[[426.0, 8.0, 0.0, 5.0, 0.0, 0.0, 2.0, 0.0, 0....</td>\n",
       "      <td>0</td>\n",
       "      <td>ref</td>\n",
       "      <td>12</td>\n",
       "      <td>1.0</td>\n",
       "    </tr>\n",
       "    <tr>\n",
       "      <th>1754</th>\n",
       "      <td>0</td>\n",
       "      <td>[[1462.0, 82.0, 2.0, 26.0, 100.0, 138.0, 71.0,...</td>\n",
       "      <td>0</td>\n",
       "      <td>ref</td>\n",
       "      <td>13</td>\n",
       "      <td>1.0</td>\n",
       "    </tr>\n",
       "    <tr>\n",
       "      <th>1757</th>\n",
       "      <td>0</td>\n",
       "      <td>[[380.0, 42.0, 1.0, 1.0, 5.0, 0.0, 8.0, 1.0, 0...</td>\n",
       "      <td>0</td>\n",
       "      <td>ref</td>\n",
       "      <td>14</td>\n",
       "      <td>1.0</td>\n",
       "    </tr>\n",
       "    <tr>\n",
       "      <th>1761</th>\n",
       "      <td>0</td>\n",
       "      <td>[[259.0, 0.0, 0.0, 164.0, 36.0, 2.0, 63.0, 8.0...</td>\n",
       "      <td>0</td>\n",
       "      <td>ref</td>\n",
       "      <td>15</td>\n",
       "      <td>1.0</td>\n",
       "    </tr>\n",
       "    <tr>\n",
       "      <th>1766</th>\n",
       "      <td>0</td>\n",
       "      <td>[[238.0, 17.0, 0.0, 91.0, 35.0, 16.0, 23.0, 28...</td>\n",
       "      <td>0</td>\n",
       "      <td>ref</td>\n",
       "      <td>16</td>\n",
       "      <td>1.0</td>\n",
       "    </tr>\n",
       "    <tr>\n",
       "      <th>1771</th>\n",
       "      <td>0</td>\n",
       "      <td>[[351.0, 209.0, 0.0, 20.0, 1.0, 0.0, 7.0, 12.0...</td>\n",
       "      <td>0</td>\n",
       "      <td>ref</td>\n",
       "      <td>17</td>\n",
       "      <td>2.0</td>\n",
       "    </tr>\n",
       "    <tr>\n",
       "      <th>1773</th>\n",
       "      <td>0</td>\n",
       "      <td>[[47.0, 0.0, 0.0, 0.0, 1.0, 0.0, 0.0, 0.0, 0.0...</td>\n",
       "      <td>0</td>\n",
       "      <td>ref</td>\n",
       "      <td>18</td>\n",
       "      <td>2.0</td>\n",
       "    </tr>\n",
       "    <tr>\n",
       "      <th>1779</th>\n",
       "      <td>0</td>\n",
       "      <td>[[0.0, 0.0, 0.0, 0.0, 0.0, 0.0, 0.0, 0.0, 0.0,...</td>\n",
       "      <td>0</td>\n",
       "      <td>ref</td>\n",
       "      <td>19</td>\n",
       "      <td>1.0</td>\n",
       "    </tr>\n",
       "    <tr>\n",
       "      <th>1780</th>\n",
       "      <td>0</td>\n",
       "      <td>[[460.0, 1.0, 0.0, 20.0, 6.0, 0.0, 0.0, 0.0, 0...</td>\n",
       "      <td>0</td>\n",
       "      <td>ref</td>\n",
       "      <td>20</td>\n",
       "      <td>1.0</td>\n",
       "    </tr>\n",
       "    <tr>\n",
       "      <th>1786</th>\n",
       "      <td>0</td>\n",
       "      <td>[[435.0, 82.0, 6.0, 153.0, 19.0, 2.0, 260.0, 7...</td>\n",
       "      <td>0</td>\n",
       "      <td>ref</td>\n",
       "      <td>21</td>\n",
       "      <td>2.0</td>\n",
       "    </tr>\n",
       "    <tr>\n",
       "      <th>1788</th>\n",
       "      <td>0</td>\n",
       "      <td>[[572.0, 28.0, 0.0, 30.0, 11.0, 41.0, 39.0, 1....</td>\n",
       "      <td>0</td>\n",
       "      <td>ref</td>\n",
       "      <td>22</td>\n",
       "      <td>2.0</td>\n",
       "    </tr>\n",
       "    <tr>\n",
       "      <th>1792</th>\n",
       "      <td>0</td>\n",
       "      <td>[[353.0, 11.0, 0.0, 44.0, 1.0, 6.0, 88.0, 3.0,...</td>\n",
       "      <td>0</td>\n",
       "      <td>ref</td>\n",
       "      <td>23</td>\n",
       "      <td>1.0</td>\n",
       "    </tr>\n",
       "    <tr>\n",
       "      <th>1797</th>\n",
       "      <td>0</td>\n",
       "      <td>[[279.0, 24.0, 25.0, 0.0, 21.0, 8.0, 62.0, 0.0...</td>\n",
       "      <td>0</td>\n",
       "      <td>ref</td>\n",
       "      <td>24</td>\n",
       "      <td>2.0</td>\n",
       "    </tr>\n",
       "  </tbody>\n",
       "</table>\n",
       "</div>"
      ],
      "text/plain": [
       "     subsample                                              graph session  \\\n",
       "1703         0  [[890.0, 117.0, 2.0, 143.0, 35.0, 0.0, 125.0, ...       0   \n",
       "1704         0  [[0.0, 0.0, 0.0, 0.0, 0.0, 0.0, 0.0, 0.0, 0.0,...       0   \n",
       "1708         0  [[679.0, 84.0, 0.0, 48.0, 8.0, 0.0, 32.0, 10.0...       0   \n",
       "1715         0  [[0.0, 0.0, 0.0, 0.0, 0.0, 0.0, 0.0, 0.0, 0.0,...       0   \n",
       "1718         0  [[0.0, 0.0, 0.0, 0.0, 0.0, 0.0, 0.0, 0.0, 0.0,...       0   \n",
       "1722         0  [[514.0, 20.0, 0.0, 0.0, 35.0, 64.0, 207.0, 0....       0   \n",
       "1726         0  [[0.0, 0.0, 0.0, 0.0, 0.0, 0.0, 0.0, 0.0, 0.0,...       0   \n",
       "1730         0  [[0.0, 0.0, 0.0, 0.0, 0.0, 0.0, 0.0, 0.0, 0.0,...       0   \n",
       "1735         0  [[652.0, 94.0, 0.0, 35.0, 7.0, 0.0, 1.0, 11.0,...       0   \n",
       "1738         0  [[387.0, 75.0, 23.0, 3.0, 8.0, 23.0, 44.0, 8.0...       0   \n",
       "1740         0  [[408.0, 3.0, 0.0, 47.0, 6.0, 14.0, 4.0, 1.0, ...       0   \n",
       "1744         0  [[228.0, 0.0, 0.0, 22.0, 57.0, 1.0, 26.0, 4.0,...       0   \n",
       "1748         0  [[426.0, 8.0, 0.0, 5.0, 0.0, 0.0, 2.0, 0.0, 0....       0   \n",
       "1754         0  [[1462.0, 82.0, 2.0, 26.0, 100.0, 138.0, 71.0,...       0   \n",
       "1757         0  [[380.0, 42.0, 1.0, 1.0, 5.0, 0.0, 8.0, 1.0, 0...       0   \n",
       "1761         0  [[259.0, 0.0, 0.0, 164.0, 36.0, 2.0, 63.0, 8.0...       0   \n",
       "1766         0  [[238.0, 17.0, 0.0, 91.0, 35.0, 16.0, 23.0, 28...       0   \n",
       "1771         0  [[351.0, 209.0, 0.0, 20.0, 1.0, 0.0, 7.0, 12.0...       0   \n",
       "1773         0  [[47.0, 0.0, 0.0, 0.0, 1.0, 0.0, 0.0, 0.0, 0.0...       0   \n",
       "1779         0  [[0.0, 0.0, 0.0, 0.0, 0.0, 0.0, 0.0, 0.0, 0.0,...       0   \n",
       "1780         0  [[460.0, 1.0, 0.0, 20.0, 6.0, 0.0, 0.0, 0.0, 0...       0   \n",
       "1786         0  [[435.0, 82.0, 6.0, 153.0, 19.0, 2.0, 260.0, 7...       0   \n",
       "1788         0  [[572.0, 28.0, 0.0, 30.0, 11.0, 41.0, 39.0, 1....       0   \n",
       "1792         0  [[353.0, 11.0, 0.0, 44.0, 1.0, 6.0, 88.0, 3.0,...       0   \n",
       "1797         0  [[279.0, 24.0, 25.0, 0.0, 21.0, 8.0, 62.0, 0.0...       0   \n",
       "\n",
       "     simulation subject  sex  \n",
       "1703        ref       0  2.0  \n",
       "1704        ref       1  2.0  \n",
       "1708        ref       2  1.0  \n",
       "1715        ref       3  2.0  \n",
       "1718        ref       4  1.0  \n",
       "1722        ref       5  2.0  \n",
       "1726        ref       6  1.0  \n",
       "1730        ref       7  2.0  \n",
       "1735        ref       8  1.0  \n",
       "1738        ref       9  1.0  \n",
       "1740        ref      10  1.0  \n",
       "1744        ref      11  1.0  \n",
       "1748        ref      12  1.0  \n",
       "1754        ref      13  1.0  \n",
       "1757        ref      14  1.0  \n",
       "1761        ref      15  1.0  \n",
       "1766        ref      16  1.0  \n",
       "1771        ref      17  2.0  \n",
       "1773        ref      18  2.0  \n",
       "1779        ref      19  1.0  \n",
       "1780        ref      20  1.0  \n",
       "1786        ref      21  2.0  \n",
       "1788        ref      22  2.0  \n",
       "1792        ref      23  1.0  \n",
       "1797        ref      24  2.0  "
      ]
     },
     "execution_count": 54,
     "metadata": {},
     "output_type": "execute_result"
    }
   ],
   "source": [
    "df_25mca.query(\"simulation == 'ref' and {0} == 0\".format('session'))"
   ]
  },
  {
   "cell_type": "code",
   "execution_count": 61,
   "metadata": {},
   "outputs": [],
   "source": [
    "from sklearn.model_selection import train_test_split"
   ]
  },
  {
   "cell_type": "code",
   "execution_count": 68,
   "metadata": {},
   "outputs": [
    {
     "data": {
      "text/plain": [
       "[array([18, 17, 21, 11, 20, 0, 3, 14, 9, 15, 13, 19, 24, 12, 1, 10, 22, 4,\n",
       "        2, 6], dtype=object),\n",
       " array([5, 7, 16, 23, 8], dtype=object),\n",
       " [2.0,\n",
       "  2.0,\n",
       "  2.0,\n",
       "  1.0,\n",
       "  1.0,\n",
       "  2.0,\n",
       "  2.0,\n",
       "  1.0,\n",
       "  1.0,\n",
       "  1.0,\n",
       "  1.0,\n",
       "  1.0,\n",
       "  2.0,\n",
       "  1.0,\n",
       "  2.0,\n",
       "  1.0,\n",
       "  2.0,\n",
       "  1.0,\n",
       "  1.0,\n",
       "  1.0],\n",
       " [2.0, 2.0, 1.0, 1.0, 1.0]]"
      ]
     },
     "execution_count": 68,
     "metadata": {},
     "output_type": "execute_result"
    }
   ],
   "source": [
    "sub = clfmca_25.df['subject'].unique()\n",
    "tar = [clfmca_25.df.query('subject == {0}'.format(s))['sex'].values[0]\n",
    "       for s in sub]\n",
    "\n",
    "train_test_split(sub, tar, test_size=0.2, stratify=tar, random_state=42)"
   ]
  },
  {
   "cell_type": "code",
   "execution_count": null,
   "metadata": {},
   "outputs": [],
   "source": [
    "locs = "
   ]
  },
  {
   "cell_type": "code",
   "execution_count": 59,
   "metadata": {},
   "outputs": [
    {
     "data": {
      "text/plain": [
       "30"
      ]
     },
     "execution_count": 59,
     "metadata": {},
     "output_type": "execute_result"
    }
   ],
   "source": [
    "n_targs = 5\n",
    "n_classifs = 3\n",
    "n_mcas_L5 = 2   # 5 and 2 giving issues\n",
    "n_aggs = 1  # consensus and \n",
    "n_mcas_L5 * n_classifs * n_targs\n",
    "\n",
    "# Adjust random seed for small experiments in MCA setting"
   ]
  },
  {
   "cell_type": "code",
   "execution_count": 60,
   "metadata": {},
   "outputs": [
    {
     "data": {
      "text/plain": [
       "105"
      ]
     },
     "execution_count": 60,
     "metadata": {},
     "output_type": "execute_result"
    }
   ],
   "source": [
    "n_agg = 7\n",
    "n_clf = 3\n",
    "n_mcas = 5\n",
    "n_mcas * n_clf * n_agg"
   ]
  },
  {
   "cell_type": "code",
   "execution_count": null,
   "metadata": {},
   "outputs": [],
   "source": [
    "# All for D25\n",
    "\n",
    "mca chol ref SVM 5     # Class balance (i.e. not balanced across TTV sets)\n",
    "mca chol ref SVM 2     # \"\"\n",
    "mca chol meta SVM 20   # \"\"\n",
    "mca chol meta SVM 5    # \"\"\n",
    "mca chol meta SVM 2    # \"\"\n",
    "mca chol mega SVM 15   # \"\"\n",
    "mca chol mega SVM 10   # \"\"\n",
    "mca chol mega SVM 5    # \"\"\n",
    "mca chol mega SVM 2    # \"\"\n",
    "mca chol mean SVM 20   # \"\"\n",
    "mca chol mean SVM 15   # \"\"\n",
    "mca chol mean SVM 10   # \"\"\n",
    "mca chol mean SVM 5    # \"\"\n",
    "mca chol mean SVM 2    # \"\"\n",
    "mca chol medi SVM 20   # \"\"\n",
    "\n",
    "mca chol mega RF 2\n",
    "mca chol ref RF 5  # \"\" + but also, \n",
    "\"\"\"\n",
    "Traceback (most recent call last):\n",
    " 93290   File \"wrapper.py\", line 121, in <module>\n",
    " 93291     main()\n",
    " 93292   File \"wrapper.py\", line 105, in main\n",
    " 93293     clf.fit(aggregation=ar.aggregation)\n",
    " 93294   File \"/home/gkiar/code/gkiar-aggregate/code/models.py\", line 85, in fit\n",
    " 93295     clf, oos = self._oos_eval(clfs, func=refSample, index=self.refloc)\n",
    " 93296   File \"/home/gkiar/code/gkiar-aggregate/code/models.py\", line 204, in _oos_eval\n",
    " 93297     pred = clf.predict(Xo)\n",
    " 93298   File \"/home/gkiar/code/env/aggregate/lib/python3.6/site-packages/sklearn/ensemble/_voting.py\", line 282, in predict\n",
    " 93299     maj = np.argmax(self.predict_proba(X), axis=1)\n",
    " 93300   File \"/home/gkiar/code/env/aggregate/lib/python3.6/site-packages/sklearn/ensemble/_voting.py\", line 302, in _predict_       proba\n",
    " 93301     avg = np.average(self._collect_probas(X), axis=0,\n",
    " 93302   File \"/home/gkiar/code/env/aggregate/lib/python3.6/site-packages/sklearn/ensemble/_voting.py\", line 297, in _collect_       probas\n",
    " 93303     return np.asarray([clf.predict_proba(X) for clf in self.estimators_])\n",
    " 93304   File \"/home/gkiar/code/env/aggregate/lib/python3.6/site-packages/numpy/core/_asarray.py\", line 83, in asarray\n",
    " 93305     return array(a, dtype, copy=False, order=order)\n",
    " 93306 ValueError: could not broadcast input array from shape (5,2) into shape (5)\n",
    "\"\"\""
   ]
  }
 ],
 "metadata": {
  "kernelspec": {
   "display_name": "agg",
   "language": "python",
   "name": "agg"
  },
  "language_info": {
   "codemirror_mode": {
    "name": "ipython",
    "version": 3
   },
   "file_extension": ".py",
   "mimetype": "text/x-python",
   "name": "python",
   "nbconvert_exporter": "python",
   "pygments_lexer": "ipython3",
   "version": "3.7.3"
  }
 },
 "nbformat": 4,
 "nbformat_minor": 4
}
