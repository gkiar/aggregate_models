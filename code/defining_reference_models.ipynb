{
 "cells": [
  {
   "cell_type": "code",
   "execution_count": 12,
   "metadata": {},
   "outputs": [],
   "source": [
    "from sklearn.ensemble import RandomForestClassifier, AdaBoostClassifier\n",
    "from sklearn.discriminant_analysis import LinearDiscriminantAnalysis\n",
    "from sklearn.gaussian_process import GaussianProcessClassifier\n",
    "from sklearn.preprocessing import FunctionTransformer\n",
    "from sklearn.metrics import f1_score, accuracy_score\n",
    "from sklearn.linear_model import LogisticRegression\n",
    "from sklearn.cluster import FeatureAgglomeration\n",
    "from sklearn.neighbors import KNeighborsClassifier\n",
    "from sklearn.naive_bayes import GaussianNB\n",
    "from sklearn.decomposition import PCA\n",
    "from sklearn.pipeline import Pipeline\n",
    "from sklearn.svm import SVC\n",
    "\n",
    "import pandas as pd\n",
    "import scipy as sp\n",
    "import numpy as np\n",
    "\n",
    "from models import AggregateLearner\n",
    "from utils import refSample"
   ]
  },
  {
   "cell_type": "code",
   "execution_count": 13,
   "metadata": {},
   "outputs": [],
   "source": [
    "def performanceP(true, f1, acc, n=1000, rs=42):\n",
    "    np.random.seed(rs)\n",
    "\n",
    "    f1_dist = np.array([f1_score(true, np.random.choice(2, len(true)))\n",
    "                        for _ in range(n)])\n",
    "    f1N = np.sum(f1_dist > f1)\n",
    "    f1p = 1.0 * f1N / n\n",
    "    print(\"F1: {0} (p = {2}; chance = {3})\".format(f1, f1p, np.mean(f1_dist)))\n",
    "    \n",
    "    acc_dist = np.array([accuracy_score(true, np.random.choice(2, len(true)))\n",
    "                for _ in range(n)])\n",
    "    accN = np.sum(acc_dist > acc)\n",
    "    accp = 1.0 * accN / n\n",
    "    print(\"Acc: {0} (p = {2}; chance = {3})\".format(acc, accp, np.mean(acc_dist)))\n",
    "    return f1p, accp"
   ]
  },
  {
   "cell_type": "code",
   "execution_count": 14,
   "metadata": {},
   "outputs": [],
   "source": [
    "# Load Dataset\n",
    "df = pd.read_hdf('../data/aggregation_connect+feature+demo_dset100x1x1x20.h5')"
   ]
  },
  {
   "cell_type": "code",
   "execution_count": 17,
   "metadata": {},
   "outputs": [],
   "source": [
    "# Create list of targets\n",
    "targets = [\"age\", \"sex\", \"bmi\"]\n",
    "\n",
    "# Create pre-processing components\n",
    "datavars = [\"graph\", \"rankgraph\", \"loggraph\", \"zgraph\"]\n",
    "\n",
    "# Create decomposition components\n",
    "pca = ('pca', PCA(n_components=20))\n",
    "fa = ('fa', FeatureAgglomeration(n_clusters=20))\n",
    "embeds = [pca, fa]\n",
    "\n",
    "# Create classifier components\n",
    "svc = ('svc', SVC(class_weight=\"balanced\", probability=True, max_iter=1e5))\n",
    "lrc = ('lrc', LogisticRegression(class_weight=\"balanced\", solver='liblinear', max_iter=1e5, penalty='l2'))\n",
    "gnb = ('gnb', GaussianNB())\n",
    "gpc = ('gpc', GaussianProcessClassifier())\n",
    "knn = ('knn', KNeighborsClassifier(n_neighbors=10))\n",
    "rfc = ('rfc', RandomForestClassifier(class_weight=\"balanced\"))\n",
    "ada = ('ada', AdaBoostClassifier())\n",
    "clfs = [svc, gnb, gpc, knn, rfc, ada]"
   ]
  },
  {
   "cell_type": "markdown",
   "metadata": {},
   "source": [
    "- age (zgraph fa rfc): 0.8750\n",
    "- sex (rankgraph pca knn): 0.8148\n",
    "- bmi (graph fa ada): 0.8182"
   ]
  },
  {
   "cell_type": "code",
   "execution_count": 22,
   "metadata": {
    "collapsed": true
   },
   "outputs": [
    {
     "name": "stdout",
     "output_type": "stream",
     "text": [
      "\n",
      "\n",
      "Age\n",
      "age graph pca svc\n",
      "age graph pca gnb\n",
      "age graph pca gpc\n",
      "age graph pca knn\n",
      "age graph pca rfc\n",
      "age graph pca ada\n",
      "age graph fa svc\n",
      "age graph fa gnb\n",
      "age graph fa gpc\n",
      "age graph fa knn\n",
      "age graph fa rfc\n",
      "age graph fa ada\n",
      "age rankgraph pca svc\n",
      "age rankgraph pca gnb\n",
      "age rankgraph pca gpc\n",
      "age rankgraph pca knn\n",
      "age rankgraph pca rfc\n",
      "age rankgraph pca ada\n",
      "age rankgraph fa svc\n",
      "age rankgraph fa gnb\n",
      "age rankgraph fa gpc\n",
      "age rankgraph fa knn\n",
      "age rankgraph fa rfc\n",
      "age rankgraph fa ada\n",
      "age loggraph pca svc\n",
      "age loggraph pca gnb\n",
      "age loggraph pca gpc\n",
      "age loggraph pca knn\n",
      "age loggraph pca rfc\n",
      "age loggraph pca ada\n",
      "age loggraph fa svc\n",
      "age loggraph fa gnb\n",
      "age loggraph fa gpc\n",
      "age loggraph fa knn\n",
      "age loggraph fa rfc\n",
      "age loggraph fa ada\n",
      "age zgraph pca svc\n",
      "age zgraph pca gnb\n",
      "age zgraph pca gpc\n",
      "age zgraph pca knn\n",
      "age zgraph pca rfc\n",
      "age zgraph pca ada\n",
      "age zgraph fa svc\n",
      "age zgraph fa gnb\n",
      "age zgraph fa gpc\n",
      "age zgraph fa knn\n",
      "age zgraph fa rfc\n",
      "age zgraph fa ada\n",
      "\n",
      "\n",
      "Sex\n",
      "sex graph pca svc\n",
      "sex graph pca gnb\n",
      "sex graph pca gpc\n",
      "sex graph pca knn\n",
      "sex graph pca rfc\n",
      "sex graph pca ada\n",
      "sex graph fa svc\n",
      "sex graph fa gnb\n",
      "sex graph fa gpc\n",
      "sex graph fa knn\n",
      "sex graph fa rfc\n",
      "sex graph fa ada\n",
      "sex rankgraph pca svc\n",
      "sex rankgraph pca gnb\n",
      "sex rankgraph pca gpc\n",
      "sex rankgraph pca knn\n",
      "sex rankgraph pca rfc\n",
      "sex rankgraph pca ada\n",
      "sex rankgraph fa svc\n",
      "sex rankgraph fa gnb\n",
      "sex rankgraph fa gpc\n",
      "sex rankgraph fa knn\n",
      "sex rankgraph fa rfc\n",
      "sex rankgraph fa ada\n",
      "sex loggraph pca svc\n",
      "sex loggraph pca gnb\n",
      "sex loggraph pca gpc\n",
      "sex loggraph pca knn\n",
      "sex loggraph pca rfc\n",
      "sex loggraph pca ada\n",
      "sex loggraph fa svc\n",
      "sex loggraph fa gnb\n",
      "sex loggraph fa gpc\n",
      "sex loggraph fa knn\n",
      "sex loggraph fa rfc\n",
      "sex loggraph fa ada\n",
      "sex zgraph pca svc\n",
      "sex zgraph pca gnb\n",
      "sex zgraph pca gpc\n",
      "sex zgraph pca knn\n",
      "sex zgraph pca rfc\n",
      "sex zgraph pca ada\n",
      "sex zgraph fa svc\n",
      "sex zgraph fa gnb\n",
      "sex zgraph fa gpc\n",
      "sex zgraph fa knn\n",
      "sex zgraph fa rfc\n",
      "sex zgraph fa ada\n",
      "\n",
      "\n",
      "Bmi\n",
      "bmi graph pca svc\n",
      "bmi graph pca gnb\n",
      "bmi graph pca gpc\n",
      "bmi graph pca knn\n",
      "bmi graph pca rfc\n",
      "bmi graph pca ada\n",
      "bmi graph fa svc\n",
      "bmi graph fa gnb\n",
      "bmi graph fa gpc\n",
      "bmi graph fa knn\n",
      "bmi graph fa rfc\n",
      "bmi graph fa ada\n",
      "bmi rankgraph pca svc\n",
      "bmi rankgraph pca gnb\n",
      "bmi rankgraph pca gpc\n",
      "bmi rankgraph pca knn\n",
      "bmi rankgraph pca rfc\n",
      "bmi rankgraph pca ada\n",
      "bmi rankgraph fa svc\n",
      "bmi rankgraph fa gnb\n",
      "bmi rankgraph fa gpc\n",
      "bmi rankgraph fa knn\n",
      "bmi rankgraph fa rfc\n",
      "bmi rankgraph fa ada\n",
      "bmi loggraph pca svc\n",
      "bmi loggraph pca gnb\n",
      "bmi loggraph pca gpc\n",
      "bmi loggraph pca knn\n",
      "bmi loggraph pca rfc\n",
      "bmi loggraph pca ada\n",
      "bmi loggraph fa svc\n",
      "bmi loggraph fa gnb\n",
      "bmi loggraph fa gpc\n",
      "bmi loggraph fa knn\n",
      "bmi loggraph fa rfc\n",
      "bmi loggraph fa ada\n",
      "bmi zgraph pca svc\n",
      "bmi zgraph pca gnb\n",
      "bmi zgraph pca gpc\n",
      "bmi zgraph pca knn\n",
      "bmi zgraph pca rfc\n",
      "bmi zgraph pca ada\n",
      "bmi zgraph fa svc\n",
      "bmi zgraph fa gnb\n",
      "bmi zgraph fa gpc\n",
      "bmi zgraph fa knn\n",
      "bmi zgraph fa rfc\n",
      "bmi zgraph fa ada\n"
     ]
    }
   ],
   "source": [
    "observation = \"simulation\"\n",
    "refstr = \"ref\"\n",
    "jack = 100\n",
    "rs = 41\n",
    "\n",
    "results = []\n",
    "for t in targets:\n",
    "    for dva in datavars:\n",
    "        for e in embeds:\n",
    "            for c in clfs:\n",
    "                pipe = Pipeline([e, c])\n",
    "                clf = AggregateLearner(df, pipe, data_id=dva, target_id=t, observation_id=observation,\n",
    "                                       sample_id='subject', refstr=refstr, cvfolds=5, oos=0.2,\n",
    "                                       jack=jack, triu=True, random_seed=rs, verbose=False)\n",
    "\n",
    "                \n",
    "                print(t, dva, e[0], c[0])\n",
    "                perf = clf.fit(aggregation=\"ref\")\n",
    "                perf['f1'], perf['acc'], perf['p_f1'], perf['p_acc']\n",
    "                results += [{\n",
    "                    \"target\": t,\n",
    "                    \"preproc\": dva,\n",
    "                    \"embedding\": e[0],\n",
    "                    \"classifier\": c[0],\n",
    "                    \"f1\": perf['f1'],\n",
    "                    \"acc\": perf['acc'],\n",
    "                    \"p_f1\": perf['p_f1'],\n",
    "                    \"p_acc\": perf['p_acc']\n",
    "                }]\n",
    "\n",
    "resdf = pd.DataFrame.from_dict(results)"
   ]
  },
  {
   "cell_type": "code",
   "execution_count": 33,
   "metadata": {},
   "outputs": [],
   "source": [
    "newdf = resdf.copy(deep=True)\n",
    "newdf['embedding'] = newdf['embedding'].apply(lambda x: x[0:][0])\n",
    "newdf['classifier'] = newdf['classifier'].apply(lambda x: x[0:][0])"
   ]
  },
  {
   "cell_type": "code",
   "execution_count": 43,
   "metadata": {},
   "outputs": [
    {
     "name": "stdout",
     "output_type": "stream",
     "text": [
      "  classifier        f1       acc      p_f1     p_acc\n",
      "0        ada  0.723823  0.643750  0.083333  0.113208\n",
      "1        gnb  0.651501  0.597917  0.248292  0.190917\n",
      "2        gpc  0.422049  0.539583  0.539292  0.355250\n",
      "3        knn  0.691480  0.631250  0.164833  0.123917\n",
      "4        rfc  0.752474  0.677083  0.037917  0.051875\n",
      "5        svc  0.710844  0.639583  0.126375  0.104792\n"
     ]
    }
   ],
   "source": [
    "print(newdf.groupby(['classifier'], as_index=False).mean())"
   ]
  },
  {
   "cell_type": "code",
   "execution_count": 44,
   "metadata": {},
   "outputs": [
    {
     "name": "stdout",
     "output_type": "stream",
     "text": [
      "  target classifier        f1      acc      p_f1     p_acc\n",
      "0    age        svc  0.826615  0.72500  0.008625  0.020750\n",
      "1    bmi        svc  0.554838  0.58750  0.333125  0.167000\n",
      "2    sex        svc  0.751078  0.60625  0.037375  0.126625\n"
     ]
    }
   ],
   "source": [
    "print(newdf.query(\"classifier == 'svc'\").groupby(['target', 'classifier'], as_index=False).mean())"
   ]
  },
  {
   "cell_type": "code",
   "execution_count": 45,
   "metadata": {},
   "outputs": [
    {
     "name": "stdout",
     "output_type": "stream",
     "text": [
      "    target    preproc embedding classifier        f1   acc   p_f1  p_acc\n",
      "96     bmi      graph       pca        svc  0.500000  0.60  0.477  0.128\n",
      "102    bmi      graph        fa        svc  0.636364  0.60  0.110  0.128\n",
      "108    bmi  rankgraph       pca        svc  0.600000  0.60  0.191  0.128\n",
      "114    bmi  rankgraph        fa        svc  0.526316  0.55  0.395  0.244\n",
      "120    bmi   loggraph       pca        svc  0.444444  0.50  0.688  0.390\n",
      "126    bmi   loggraph        fa        svc  0.500000  0.60  0.477  0.128\n",
      "132    bmi     zgraph       pca        svc  0.631579  0.65  0.136  0.062\n",
      "138    bmi     zgraph        fa        svc  0.600000  0.60  0.191  0.128\n"
     ]
    }
   ],
   "source": [
    "print(newdf.query(\"classifier == 'svc' and target == 'bmi'\"))"
   ]
  },
  {
   "cell_type": "code",
   "execution_count": null,
   "metadata": {},
   "outputs": [],
   "source": []
  },
  {
   "cell_type": "code",
   "execution_count": null,
   "metadata": {},
   "outputs": [],
   "source": []
  }
 ],
 "metadata": {
  "kernelspec": {
   "display_name": "agg",
   "language": "python",
   "name": "agg"
  },
  "language_info": {
   "codemirror_mode": {
    "name": "ipython",
    "version": 3
   },
   "file_extension": ".py",
   "mimetype": "text/x-python",
   "name": "python",
   "nbconvert_exporter": "python",
   "pygments_lexer": "ipython3",
   "version": "3.7.3"
  }
 },
 "nbformat": 4,
 "nbformat_minor": 4
}
