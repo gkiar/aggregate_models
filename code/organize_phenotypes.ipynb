{
 "cells": [
  {
   "cell_type": "code",
   "execution_count": 1,
   "metadata": {},
   "outputs": [],
   "source": [
    "import numpy as np\n",
    "import pandas as pd\n",
    "import os.path as op\n",
    "import os\n",
    "\n",
    "\n",
    "inlist = lambda x, y: [x_ in y for x_ in x]"
   ]
  },
  {
   "cell_type": "markdown",
   "metadata": {},
   "source": [
    "### Organize Dset100x1x1x20"
   ]
  },
  {
   "cell_type": "code",
   "execution_count": 2,
   "metadata": {},
   "outputs": [
    {
     "name": "stdout",
     "output_type": "stream",
     "text": [
      "8353\n",
      "8309\n",
      "8225\n",
      "4111\n",
      "2057\n"
     ]
    }
   ],
   "source": [
    "df = pd.read_hdf('../data/impactofinstability_connect+feature_dset100x1x1x20_both.h5')\n",
    "df = df.reset_index()\n",
    "\n",
    "# Very incomplete sub: A00059344\n",
    "inc = ['A00059344']\n",
    "print(len(df))\n",
    "for __ in inc:\n",
    "    df = df[df.subject != __]\n",
    "print(len(df))\n",
    "\n",
    "# Broken graph subs\n",
    "N_rois = 83\n",
    "dfl = [row\n",
    "       for idx, row in df.iterrows()\n",
    "       if row['graph'].shape == (N_rois, N_rois)]\n",
    "df = pd.DataFrame(dfl)\n",
    "print(len(df))\n",
    "\n",
    "# Drop pipelines and perturbation methods not of interest\n",
    "df = df[df[\"pipeline\"] == \"prob\"]\n",
    "print(len(df))\n",
    "df = df[df[\"instrumentation\"] == \"Data\"]\n",
    "print(len(df))\n",
    "df.reset_index(drop=True, inplace=True)\n",
    "\n",
    "# Drop some columns (will re-add relevant ones later)\n",
    "df.drop(labels=['bmi', 'pulse', 'age', 'sex', 'index',\n",
    "                'pipeline', 'instrumentation'], axis=1, inplace=True)\n",
    "\n",
    "subs = list(set(df.subject))"
   ]
  },
  {
   "cell_type": "code",
   "execution_count": 3,
   "metadata": {},
   "outputs": [],
   "source": [
    "# Load DF\n",
    "df_pheno = pd.read_csv('../data/phenotypic.csv')\n",
    "\n",
    "# Deal with minor reorg details\n",
    "df_pheno[\"session\"] = [_.split(',')[1] for _ in df_pheno['id'].values]\n",
    "df_pheno[\"id\"] = [_.split(',')[0] for _ in df_pheno['id'].values]\n",
    "\n",
    "keep = inlist(df_pheno['id'], subs)\n",
    "df_pheno = df_pheno[keep]\n",
    "\n",
    "for col in ['sex', 'vo2max', 'bmi', 'cholesterol']:\n",
    "    tmp = [str(_).split()[0]\n",
    "           for _ in df_pheno[col].values]\n",
    "    df_pheno[col] = [np.nan if np.isnan(float(_))\n",
    "                     else _\n",
    "                     for _ in tmp]\n",
    "\n",
    "# Prune for completeness\n",
    "df_pheno.reset_index(drop=True, inplace=True)"
   ]
  },
  {
   "cell_type": "code",
   "execution_count": 4,
   "metadata": {},
   "outputs": [],
   "source": [
    "for cov in ['age', 'sex', 'bmi', 'cholesterol', 'vo2max']:\n",
    "    df[cov] = np.nan\n",
    "\n",
    "for sub in subs:\n",
    "    for cov in ['age', 'sex', 'bmi', 'cholesterol', 'vo2max']:\n",
    "        df.loc[df['subject'] == sub, cov] = df_pheno[df_pheno['id'] == sub][cov].values[0]"
   ]
  },
  {
   "cell_type": "code",
   "execution_count": 6,
   "metadata": {},
   "outputs": [
    {
     "name": "stderr",
     "output_type": "stream",
     "text": [
      "/Users/greg/code/env/stability/lib/python3.7/site-packages/pandas/core/generic.py:2505: PerformanceWarning: \n",
      "your performance may suffer as PyTables will pickle object types that it cannot\n",
      "map directly to c-types [inferred_type->mixed,key->block2_values] [items->Index(['subject', 'simulation', 'graph', 'degree', 'weight', 'ccoeff',\n",
      "       'betweenness', 'plength', 'sex', 'bmi', 'cholesterol', 'vo2max'],\n",
      "      dtype='object')]\n",
      "\n",
      "  encoding=encoding,\n"
     ]
    }
   ],
   "source": [
    "df.to_hdf('../data/aggregation_connect+feature+demo_dset100x1x1x20.h5', 'data')"
   ]
  },
  {
   "cell_type": "markdown",
   "metadata": {},
   "source": [
    "### Organize Dset25x2x2x20"
   ]
  },
  {
   "cell_type": "code",
   "execution_count": 15,
   "metadata": {},
   "outputs": [
    {
     "name": "stdout",
     "output_type": "stream",
     "text": [
      "2100\n"
     ]
    }
   ],
   "source": [
    "df = pd.read_hdf('../data/impactofinstability_connect_dset25x2x2x20_inputs.h5')\n",
    "df = df.reset_index(drop=True)\n",
    "\n",
    "# Drop pipeline not of interest\n",
    "df = df[df[\"pipeline\"] == \"prob\"]\n",
    "print(len(df))\n",
    "df.reset_index(drop=True, inplace=True)\n",
    "\n",
    "# Drop some columns (will re-add relevant ones later)\n",
    "df.drop(labels=['bmi', 'pulse', 'age', 'sex', 'pipeline'], axis=1, inplace=True)\n",
    "\n",
    "subs = list(set(df.subject))"
   ]
  },
  {
   "cell_type": "code",
   "execution_count": 19,
   "metadata": {},
   "outputs": [],
   "source": [
    "df_pheno = pd.read_csv('../data/phenotypic.csv')\n",
    "\n",
    "# Deal with minor reorg details\n",
    "df_pheno[\"session\"] = [_.split(',')[1] for _ in df_pheno['id'].values]\n",
    "df_pheno[\"id\"] = [_.split(',')[0] for _ in df_pheno['id'].values]\n",
    "\n",
    "keep = inlist(df_pheno['id'], subs)\n",
    "df_pheno = df_pheno[keep]\n",
    "\n",
    "for col in ['sex', 'vo2max', 'bmi', 'cholesterol']:\n",
    "    tmp = [str(_).split()[0]\n",
    "           for _ in df_pheno[col].values]\n",
    "    df_pheno[col] = [np.nan if np.isnan(float(_))\n",
    "                     else _\n",
    "                     for _ in tmp]\n",
    "\n",
    "# Prune for completeness\n",
    "df_pheno.reset_index(drop=True, inplace=True)"
   ]
  },
  {
   "cell_type": "code",
   "execution_count": 24,
   "metadata": {
    "scrolled": false
   },
   "outputs": [],
   "source": [
    "for cov in ['age', 'sex', 'bmi', 'cholesterol', 'vo2max']:\n",
    "    df[cov] = np.nan\n",
    "\n",
    "for sub in subs:\n",
    "    for cov in ['age', 'sex', 'bmi', 'cholesterol', 'vo2max']:\n",
    "        df.loc[df['subject'] == sub, cov] = df_pheno[df_pheno['id'] == sub][cov].values[0]"
   ]
  },
  {
   "cell_type": "code",
   "execution_count": 27,
   "metadata": {},
   "outputs": [
    {
     "name": "stderr",
     "output_type": "stream",
     "text": [
      "/Users/greg/code/env/stability/lib/python3.7/site-packages/pandas/core/generic.py:2505: PerformanceWarning: \n",
      "your performance may suffer as PyTables will pickle object types that it cannot\n",
      "map directly to c-types [inferred_type->mixed,key->block2_values] [items->Index(['directions', 'graph', 'session', 'simulation', 'subject', 'sex', 'bmi',\n",
      "       'cholesterol', 'vo2max'],\n",
      "      dtype='object')]\n",
      "\n",
      "  encoding=encoding,\n"
     ]
    }
   ],
   "source": [
    "df.to_hdf('../data/aggregation_connect+demo_dset25x2x2x20.h5', 'data')"
   ]
  }
 ],
 "metadata": {
  "kernelspec": {
   "display_name": "Python 3.7.3 64-bit ('stability': virtualenv)",
   "language": "python",
   "name": "python37364bitstabilityvirtualenv84ac84352db94279bfc9e852927393a9"
  },
  "language_info": {
   "codemirror_mode": {
    "name": "ipython",
    "version": 3
   },
   "file_extension": ".py",
   "mimetype": "text/x-python",
   "name": "python",
   "nbconvert_exporter": "python",
   "pygments_lexer": "ipython3",
   "version": "3.7.3"
  }
 },
 "nbformat": 4,
 "nbformat_minor": 4
}
