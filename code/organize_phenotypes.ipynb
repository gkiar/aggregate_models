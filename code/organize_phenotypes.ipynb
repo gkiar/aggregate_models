{
 "cells": [
  {
   "cell_type": "code",
   "execution_count": 1,
   "metadata": {},
   "outputs": [],
   "source": [
    "from sklearn.preprocessing import LabelEncoder\n",
    "import numpy as np\n",
    "import pandas as pd\n",
    "import os.path as op\n",
    "import os\n",
    "\n",
    "inlist = lambda x, y: [x_ in y for x_ in x]"
   ]
  },
  {
   "cell_type": "markdown",
   "metadata": {},
   "source": [
    "### Organize Dset100x1x1x20"
   ]
  },
  {
   "cell_type": "code",
   "execution_count": 2,
   "metadata": {},
   "outputs": [
    {
     "name": "stdout",
     "output_type": "stream",
     "text": [
      "8353\n",
      "8309\n",
      "8225\n",
      "4111\n",
      "2057\n"
     ]
    }
   ],
   "source": [
    "df = pd.read_hdf('../data/impactofinstability_connect+feature_dset100x1x1x20_both.h5')\n",
    "df = df.reset_index()\n",
    "\n",
    "# Very incomplete sub: A00059344\n",
    "inc = ['A00059344']\n",
    "print(len(df))\n",
    "for __ in inc:\n",
    "    df = df[df.subject != __]\n",
    "print(len(df))\n",
    "\n",
    "# Broken graph subs\n",
    "N_rois = 83\n",
    "dfl = [row\n",
    "       for idx, row in df.iterrows()\n",
    "       if row['graph'].shape == (N_rois, N_rois)]\n",
    "df = pd.DataFrame(dfl)\n",
    "print(len(df))\n",
    "\n",
    "# Drop pipelines and perturbation methods not of interest\n",
    "df = df[df[\"pipeline\"] == \"prob\"]\n",
    "print(len(df))\n",
    "df = df[df[\"instrumentation\"] == \"Data\"]\n",
    "print(len(df))\n",
    "df.reset_index(drop=True, inplace=True)\n",
    "\n",
    "# Drop some columns (will re-add relevant ones later)\n",
    "df.drop(labels=['bmi', 'pulse', 'age', 'sex', 'index',\n",
    "                'pipeline', 'instrumentation'], axis=1, inplace=True)\n",
    "\n",
    "subs = list(set(df.subject))"
   ]
  },
  {
   "cell_type": "code",
   "execution_count": 3,
   "metadata": {},
   "outputs": [],
   "source": [
    "# Load DF\n",
    "df_pheno = pd.read_csv('../data/phenotypic_w_kg.csv')"
   ]
  },
  {
   "cell_type": "code",
   "execution_count": 4,
   "metadata": {},
   "outputs": [],
   "source": [
    "for cov in ['age', 'sex', 'bmi', 'cholesterol', 'rel_vo2max']:\n",
    "    df[cov] = np.nan\n",
    "\n",
    "for sub in subs:\n",
    "    for cov in ['age', 'sex', 'bmi', 'cholesterol', 'rel_vo2max']:\n",
    "        df.loc[df['subject'] == sub, cov] = df_pheno[df_pheno['id'] == sub][cov].values[0]\n",
    "\n",
    "subs = list(df['subject'].unique())\n",
    "for idx, row in df.iterrows():\n",
    "    # Replace subids with unique numbers\n",
    "    loc = subs.index(row.subject)\n",
    "    row['subject'] = loc\n",
    "    del loc\n",
    "    \n",
    "    row['age'] = int(float(row['age']) > 18)\n",
    "    row['sex'] = int(row['sex']) - 1 # After this: M=0, F=1\n",
    "    row['bmi'] = int(float(row['bmi']) > 25)\n",
    "    row['rel_vo2max'] = int(float(row['rel_vo2max']) > (55 - (row['sex'])*10))\n",
    "    row['cholesterol'] = int(float(row['cholesterol']) > 200)\n",
    "    df.iloc[idx] = row\n",
    "    del row"
   ]
  },
  {
   "cell_type": "code",
   "execution_count": 5,
   "metadata": {},
   "outputs": [
    {
     "name": "stdout",
     "output_type": "stream",
     "text": [
      "0.0    77\n",
      "1.0    20\n",
      "Name: cholesterol, dtype: int64\n",
      "1.0    66\n",
      "0.0    31\n",
      "Name: age, dtype: int64\n",
      "1.0    49\n",
      "0.0    48\n",
      "Name: bmi, dtype: int64\n",
      "1.0    50\n",
      "0.0    47\n",
      "Name: rel_vo2max, dtype: int64\n",
      "1.0    58\n",
      "0.0    39\n",
      "Name: sex, dtype: int64\n"
     ]
    }
   ],
   "source": [
    "subdf = df.query('simulation == \"ref\"')\n",
    "\n",
    "print(subdf['cholesterol'].value_counts())\n",
    "print(subdf['age'].value_counts())\n",
    "print(subdf['bmi'].value_counts())\n",
    "print(subdf['rel_vo2max'].value_counts())\n",
    "print(subdf['sex'].value_counts())"
   ]
  },
  {
   "cell_type": "code",
   "execution_count": 6,
   "metadata": {},
   "outputs": [
    {
     "name": "stderr",
     "output_type": "stream",
     "text": [
      "/Users/greg/code/env/agg/lib/python3.7/site-packages/pandas/core/generic.py:2449: PerformanceWarning: \n",
      "your performance may suffer as PyTables will pickle object types that it cannot\n",
      "map directly to c-types [inferred_type->mixed-integer,key->block2_values] [items->Index(['subject', 'simulation', 'graph', 'degree', 'weight', 'ccoeff',\n",
      "       'betweenness', 'plength'],\n",
      "      dtype='object')]\n",
      "\n",
      "  encoding=encoding,\n"
     ]
    }
   ],
   "source": [
    "df.to_hdf('../data/aggregation_connect+feature+demo_dset100x1x1x20.h5', 'data')"
   ]
  },
  {
   "cell_type": "markdown",
   "metadata": {},
   "source": [
    "### Organize Dset25x2x2x20"
   ]
  },
  {
   "cell_type": "code",
   "execution_count": 7,
   "metadata": {},
   "outputs": [
    {
     "name": "stdout",
     "output_type": "stream",
     "text": [
      "2100\n"
     ]
    }
   ],
   "source": [
    "df25 = pd.read_hdf('../data/impactofinstability_connect_dset25x2x2x20_inputs.h5')\n",
    "df25 = df25.reset_index(drop=True)\n",
    "\n",
    "# Drop pipeline not of interest\n",
    "df25 = df25[df25[\"pipeline\"] == \"prob\"]\n",
    "print(len(df25))\n",
    "df25.reset_index(drop=True, inplace=True)\n",
    "\n",
    "# Drop some columns (will re-add relevant ones later)\n",
    "df25.drop(labels=['bmi', 'pulse', 'age', 'sex', 'seed', 'pipeline'], axis=1, inplace=True)\n",
    "df25.rename(columns={\"directions\":\"subsample\"}, inplace=True)\n",
    "subs25 = list(set(df25.subject))"
   ]
  },
  {
   "cell_type": "code",
   "execution_count": 8,
   "metadata": {},
   "outputs": [],
   "source": [
    "df_pheno = pd.read_csv('../data/phenotypic_w_kg.csv')"
   ]
  },
  {
   "cell_type": "code",
   "execution_count": 9,
   "metadata": {},
   "outputs": [],
   "source": [
    "for cov in ['age', 'sex', 'bmi', 'cholesterol', 'rel_vo2max']:\n",
    "    df25[cov] = np.nan\n",
    "\n",
    "for sub in subs25:\n",
    "    for cov in ['age', 'sex', 'bmi', 'cholesterol', 'rel_vo2max']:\n",
    "        df25.loc[df25['subject'] == sub, cov] = df_pheno[df_pheno['id'] == sub][cov].values[0]\n",
    "        \n",
    "        ses = df25.loc[df25['subject'] == sub, 'session'].values\n",
    "        sesle = LabelEncoder().fit(ses)\n",
    "        df25.loc[df25['subject'] == sub, 'session'] = sesle.transform(ses)\n",
    "        \n",
    "        samp = df25.loc[df25['subject'] == sub, 'subsample'].values\n",
    "        sample = LabelEncoder().fit(samp)\n",
    "        df25.loc[df25['subject'] == sub, 'subsample'] = sample.transform(samp)\n",
    "\n",
    "subs = list(df25['subject'].unique())\n",
    "for idx, row in df25.iterrows():\n",
    "    # Replace subids with unique numbers\n",
    "    try:\n",
    "        loc = subs.index(row.subject)\n",
    "    except ValueError:\n",
    "        continue\n",
    "    row['subject'] = loc\n",
    "    del loc\n",
    "    \n",
    "    row['age'] = int(float(row['age']) > 18)\n",
    "    row['sex'] = int(row['sex'])\n",
    "    row['bmi'] = int(float(row['bmi']) > 25)\n",
    "    row['rel_vo2max'] = int(float(row['rel_vo2max']) > (45 + (row['sex']-1)*10))\n",
    "    row['cholesterol'] = int(float(row['cholesterol']) > 200)\n",
    "    df25.iloc[idx] = row\n",
    "    del row"
   ]
  },
  {
   "cell_type": "code",
   "execution_count": 10,
   "metadata": {},
   "outputs": [
    {
     "name": "stdout",
     "output_type": "stream",
     "text": [
      "0.0    22\n",
      "1.0     3\n",
      "Name: cholesterol, dtype: int64\n",
      "0.0    15\n",
      "1.0    10\n",
      "Name: age, dtype: int64\n",
      "0.0    13\n",
      "1.0    12\n",
      "Name: bmi, dtype: int64\n",
      "1.0    16\n",
      "0.0     9\n",
      "Name: rel_vo2max, dtype: int64\n",
      "1.0    15\n",
      "2.0    10\n",
      "Name: sex, dtype: int64\n"
     ]
    }
   ],
   "source": [
    "subdf = df25.query('simulation == \"ref\" and session == 0 and subsample == 0')\n",
    "\n",
    "print(subdf['cholesterol'].value_counts())\n",
    "print(subdf['age'].value_counts())\n",
    "print(subdf['bmi'].value_counts())\n",
    "print(subdf['rel_vo2max'].value_counts())\n",
    "print(subdf['sex'].value_counts())"
   ]
  },
  {
   "cell_type": "code",
   "execution_count": 11,
   "metadata": {},
   "outputs": [
    {
     "name": "stderr",
     "output_type": "stream",
     "text": [
      "/Users/greg/code/env/agg/lib/python3.7/site-packages/pandas/core/generic.py:2449: PerformanceWarning: \n",
      "your performance may suffer as PyTables will pickle object types that it cannot\n",
      "map directly to c-types [inferred_type->mixed-integer,key->block1_values] [items->Index(['subsample', 'graph', 'session', 'simulation', 'subject'], dtype='object')]\n",
      "\n",
      "  encoding=encoding,\n"
     ]
    }
   ],
   "source": [
    "df25.to_hdf('../data/aggregation_connect+demo_dset25x2x2x20.h5', 'data')"
   ]
  }
 ],
 "metadata": {
  "kernelspec": {
   "display_name": "agg",
   "language": "python",
   "name": "agg"
  },
  "language_info": {
   "codemirror_mode": {
    "name": "ipython",
    "version": 3
   },
   "file_extension": ".py",
   "mimetype": "text/x-python",
   "name": "python",
   "nbconvert_exporter": "python",
   "pygments_lexer": "ipython3",
   "version": "3.7.3"
  }
 },
 "nbformat": 4,
 "nbformat_minor": 4
}
