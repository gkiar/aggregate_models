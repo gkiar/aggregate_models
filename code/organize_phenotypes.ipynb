{
 "cells": [
  {
   "cell_type": "code",
   "execution_count": 1,
   "metadata": {},
   "outputs": [],
   "source": [
    "from sklearn.preprocessing import LabelEncoder\n",
    "import numpy as np\n",
    "import pandas as pd\n",
    "import os.path as op\n",
    "import os\n",
    "\n",
    "inlist = lambda x, y: [x_ in y for x_ in x]"
   ]
  },
  {
   "cell_type": "markdown",
   "metadata": {},
   "source": [
    "### Organize Dset100x1x1x20"
   ]
  },
  {
   "cell_type": "code",
   "execution_count": 2,
   "metadata": {},
   "outputs": [
    {
     "name": "stdout",
     "output_type": "stream",
     "text": [
      "8353\n",
      "8309\n",
      "8225\n",
      "4111\n",
      "2057\n"
     ]
    }
   ],
   "source": [
    "df = pd.read_hdf('../data/impactofinstability_connect+feature_dset100x1x1x20_both.h5')\n",
    "df = df.reset_index()\n",
    "\n",
    "# Very incomplete sub: A00059344\n",
    "inc = ['A00059344']\n",
    "print(len(df))\n",
    "for __ in inc:\n",
    "    df = df[df.subject != __]\n",
    "print(len(df))\n",
    "\n",
    "# Broken graph subs\n",
    "N_rois = 83\n",
    "dfl = [row\n",
    "       for idx, row in df.iterrows()\n",
    "       if row['graph'].shape == (N_rois, N_rois)]\n",
    "df = pd.DataFrame(dfl)\n",
    "print(len(df))\n",
    "\n",
    "# Drop pipelines and perturbation methods not of interest\n",
    "df = df[df[\"pipeline\"] == \"prob\"]\n",
    "print(len(df))\n",
    "df = df[df[\"instrumentation\"] == \"Data\"]\n",
    "print(len(df))\n",
    "df.reset_index(drop=True, inplace=True)\n",
    "\n",
    "# Drop some columns (will re-add relevant ones later)\n",
    "df.drop(labels=['bmi', 'pulse', 'age', 'sex', 'index',\n",
    "                'pipeline', 'instrumentation'], axis=1, inplace=True)\n",
    "\n",
    "subs = list(set(df.subject))"
   ]
  },
  {
   "cell_type": "code",
   "execution_count": 3,
   "metadata": {},
   "outputs": [],
   "source": [
    "# Load DF\n",
    "df_pheno = pd.read_csv('../data/phenotypic_w_kg.csv')"
   ]
  },
  {
   "cell_type": "code",
   "execution_count": 4,
   "metadata": {},
   "outputs": [],
   "source": [
    "for cov in ['age', 'sex', 'bmi', 'cholesterol', 'rel_vo2max']:\n",
    "    df[cov] = np.nan\n",
    "\n",
    "for sub in subs:\n",
    "    for cov in ['age', 'sex', 'bmi', 'cholesterol', 'rel_vo2max']:\n",
    "        df.loc[df['subject'] == sub, cov] = df_pheno[df_pheno['id'] == sub][cov].values[0]\n",
    "\n",
    "subs = list(df['subject'].unique())\n",
    "for idx, row in df.iterrows():\n",
    "    # Replace subids with unique numbers\n",
    "    loc = subs.index(row.subject)\n",
    "    row['subject'] = loc\n",
    "    del loc\n",
    "    \n",
    "    row['age'] = int(float(row['age']) > 18)\n",
    "    row['sex'] = int(row['sex']) - 1 # After this: M=0, F=1\n",
    "    row['bmi'] = int(float(row['bmi']) > 25)\n",
    "    row['rel_vo2max'] = int(float(row['rel_vo2max']) > (55 - (row['sex'])*10))\n",
    "    row['cholesterol'] = int(float(row['cholesterol']) > 200)\n",
    "    df.iloc[idx] = row\n",
    "    del row"
   ]
  },
  {
   "cell_type": "code",
   "execution_count": 5,
   "metadata": {},
   "outputs": [
    {
     "name": "stdout",
     "output_type": "stream",
     "text": [
      "0.0    77\n",
      "1.0    20\n",
      "Name: cholesterol, dtype: int64\n",
      "1.0    66\n",
      "0.0    31\n",
      "Name: age, dtype: int64\n",
      "1.0    49\n",
      "0.0    48\n",
      "Name: bmi, dtype: int64\n",
      "1.0    50\n",
      "0.0    47\n",
      "Name: rel_vo2max, dtype: int64\n",
      "1.0    58\n",
      "0.0    39\n",
      "Name: sex, dtype: int64\n"
     ]
    }
   ],
   "source": [
    "subdf = df.query('simulation == \"ref\"')\n",
    "\n",
    "print(subdf['cholesterol'].value_counts())\n",
    "print(subdf['age'].value_counts())\n",
    "print(subdf['bmi'].value_counts())\n",
    "print(subdf['rel_vo2max'].value_counts())\n",
    "print(subdf['sex'].value_counts())"
   ]
  },
  {
   "cell_type": "code",
   "execution_count": 6,
   "metadata": {},
   "outputs": [
    {
     "name": "stderr",
     "output_type": "stream",
     "text": [
      "/Users/greg/code/env/agg/lib/python3.7/site-packages/pandas/core/generic.py:2449: PerformanceWarning: \n",
      "your performance may suffer as PyTables will pickle object types that it cannot\n",
      "map directly to c-types [inferred_type->mixed-integer,key->block2_values] [items->Index(['subject', 'simulation', 'graph', 'degree', 'weight', 'ccoeff',\n",
      "       'betweenness', 'plength'],\n",
      "      dtype='object')]\n",
      "\n",
      "  encoding=encoding,\n"
     ]
    }
   ],
   "source": [
    "df.to_hdf('../data/aggregation_connect+feature+demo_dset100x1x1x20.h5', 'data')"
   ]
  },
  {
   "cell_type": "markdown",
   "metadata": {},
   "source": [
    "### Organize Dset25x2x2x20"
   ]
  },
  {
   "cell_type": "code",
   "execution_count": 7,
   "metadata": {},
   "outputs": [
    {
     "name": "stdout",
     "output_type": "stream",
     "text": [
      "2100\n"
     ]
    }
   ],
   "source": [
    "df25 = pd.read_hdf('../data/impactofinstability_connect_dset25x2x2x20_inputs.h5')\n",
    "df25 = df25.reset_index(drop=True)\n",
    "\n",
    "# Drop pipeline not of interest\n",
    "df25 = df25[df25[\"pipeline\"] == \"prob\"]\n",
    "print(len(df25))\n",
    "df25.reset_index(drop=True, inplace=True)\n",
    "\n",
    "# Drop some columns (will re-add relevant ones later)\n",
    "df25.drop(labels=['bmi', 'pulse', 'age', 'sex', 'seed', 'pipeline'], axis=1, inplace=True)\n",
    "df25.rename(columns={\"directions\":\"subsample\"}, inplace=True)\n",
    "subs25 = list(set(df25.subject))"
   ]
  },
  {
   "cell_type": "code",
   "execution_count": 8,
   "metadata": {},
   "outputs": [],
   "source": [
    "df_pheno = pd.read_csv('../data/phenotypic_w_kg.csv')"
   ]
  },
  {
   "cell_type": "code",
   "execution_count": 9,
   "metadata": {},
   "outputs": [],
   "source": [
    "for cov in ['age', 'sex', 'bmi', 'cholesterol', 'rel_vo2max']:\n",
    "    df25[cov] = np.nan\n",
    "\n",
    "for sub in subs25:\n",
    "    for cov in ['age', 'sex', 'bmi', 'cholesterol', 'rel_vo2max']:\n",
    "        df25.loc[df25['subject'] == sub, cov] = df_pheno[df_pheno['id'] == sub][cov].values[0]\n",
    "        \n",
    "        ses = df25.loc[df25['subject'] == sub, 'session'].values\n",
    "        sesle = LabelEncoder().fit(ses)\n",
    "        df25.loc[df25['subject'] == sub, 'session'] = sesle.transform(ses)\n",
    "        \n",
    "        samp = df25.loc[df25['subject'] == sub, 'subsample'].values\n",
    "        sample = LabelEncoder().fit(samp)\n",
    "        df25.loc[df25['subject'] == sub, 'subsample'] = sample.transform(samp)\n",
    "\n",
    "subs = list(df25['subject'].unique())\n",
    "for idx, row in df25.iterrows():\n",
    "    # Replace subids with unique numbers\n",
    "    try:\n",
    "        loc = subs.index(row.subject)\n",
    "    except ValueError:\n",
    "        continue\n",
    "    row['subject'] = loc\n",
    "    del loc\n",
    "    \n",
    "    row['age'] = int(float(row['age']) > 18)\n",
    "    row['sex'] = int(row['sex'])\n",
    "    row['bmi'] = int(float(row['bmi']) > 25)\n",
    "    row['rel_vo2max'] = int(float(row['rel_vo2max']) > (45 + (row['sex']-1)*10))\n",
    "    row['cholesterol'] = int(float(row['cholesterol']) > 200)\n",
    "    df25.iloc[idx] = row\n",
    "    del row"
   ]
  },
  {
   "cell_type": "code",
   "execution_count": 10,
   "metadata": {},
   "outputs": [
    {
     "name": "stdout",
     "output_type": "stream",
     "text": [
      "0.0    22\n",
      "1.0     3\n",
      "Name: cholesterol, dtype: int64\n",
      "0.0    15\n",
      "1.0    10\n",
      "Name: age, dtype: int64\n",
      "0.0    13\n",
      "1.0    12\n",
      "Name: bmi, dtype: int64\n",
      "1.0    16\n",
      "0.0     9\n",
      "Name: rel_vo2max, dtype: int64\n",
      "1.0    15\n",
      "2.0    10\n",
      "Name: sex, dtype: int64\n"
     ]
    }
   ],
   "source": [
    "subdf = df25.query('simulation == \"ref\" and session == 0 and subsample == 0')\n",
    "\n",
    "print(subdf['cholesterol'].value_counts())\n",
    "print(subdf['age'].value_counts())\n",
    "print(subdf['bmi'].value_counts())\n",
    "print(subdf['rel_vo2max'].value_counts())\n",
    "print(subdf['sex'].value_counts())"
   ]
  },
  {
   "cell_type": "code",
   "execution_count": 11,
   "metadata": {},
   "outputs": [],
   "source": [
    "df.to_hdf('../data/aggregation_connect+demo_dset25x2x2x20.h5', 'data')"
   ]
  },
  {
   "cell_type": "code",
   "execution_count": null,
   "metadata": {},
   "outputs": [],
   "source": []
  },
  {
   "cell_type": "code",
   "execution_count": 7,
   "metadata": {},
   "outputs": [],
   "source": [
    "subs = list(set(df.subject)) + list(set(df25.subject))"
   ]
  },
  {
   "cell_type": "code",
   "execution_count": 8,
   "metadata": {},
   "outputs": [],
   "source": [
    "# Load DF\n",
    "df_pheno = pd.read_csv('../data/phenotypic.csv')\n",
    "df_pheno2 = pd.read_csv('../data/data-2020-10-23T15_02_42.780Z.csv')\n",
    "\n",
    "# Deal with minor reorg details\n",
    "df_pheno[\"session\"] = [_.split(',')[1] for _ in df_pheno['id'].values]\n",
    "df_pheno[\"id\"] = [_.split(',')[0] for _ in df_pheno['id'].values]\n",
    "df_pheno2[\"id\"] = [_.split(',')[0] for _ in df_pheno2['id'].values]\n",
    "\n",
    "keep = inlist(df_pheno['id'], subs)\n",
    "df_pheno = df_pheno[keep]\n",
    "\n",
    "keep = inlist(df_pheno2['id'], subs)\n",
    "df_pheno2 = df_pheno2[keep]\n",
    "\n",
    "for col in ['sex', 'vo2max', 'bmi', 'cholesterol']:\n",
    "    tmp = [str(_).split()[0]\n",
    "           for _ in df_pheno[col].values]\n",
    "    df_pheno[col] = [np.nan if np.isnan(float(_))\n",
    "                     else float(_)\n",
    "                     for _ in tmp]\n",
    "\n",
    "wgtdf = []\n",
    "for sub in df_pheno2['id'].unique():\n",
    "    tmpdf = df_pheno2[df_pheno2['id'] == sub]\n",
    "    wgt = np.mean(tmpdf['kg'].values)\n",
    "    wgtdf += [{'id':sub, 'weight(kg)':wgt}]\n",
    "\n",
    "# Prune for completeness\n",
    "df_pheno = df_pheno.merge(pd.DataFrame.from_dict(wgtdf), how='left', on='id')\n",
    "df_pheno[\"rel_vo2max\"] = df_pheno[\"vo2max\"] / df_pheno['weight(kg)'] * 1000\n",
    "df_pheno.reset_index(drop=True, inplace=True)"
   ]
  },
  {
   "cell_type": "code",
   "execution_count": 9,
   "metadata": {},
   "outputs": [
    {
     "data": {
      "text/html": [
       "<div>\n",
       "<style scoped>\n",
       "    .dataframe tbody tr th:only-of-type {\n",
       "        vertical-align: middle;\n",
       "    }\n",
       "\n",
       "    .dataframe tbody tr th {\n",
       "        vertical-align: top;\n",
       "    }\n",
       "\n",
       "    .dataframe thead th {\n",
       "        text-align: right;\n",
       "    }\n",
       "</style>\n",
       "<table border=\"1\" class=\"dataframe\">\n",
       "  <thead>\n",
       "    <tr style=\"text-align: right;\">\n",
       "      <th></th>\n",
       "      <th>id</th>\n",
       "      <th>age</th>\n",
       "      <th>sex</th>\n",
       "      <th>vo2max</th>\n",
       "      <th>bmi</th>\n",
       "      <th>cholesterol</th>\n",
       "      <th>session</th>\n",
       "      <th>weight(kg)</th>\n",
       "      <th>rel_vo2max</th>\n",
       "    </tr>\n",
       "  </thead>\n",
       "  <tbody>\n",
       "    <tr>\n",
       "      <th>0</th>\n",
       "      <td>A00018030</td>\n",
       "      <td>11.673973</td>\n",
       "      <td>2.0</td>\n",
       "      <td>NaN</td>\n",
       "      <td>15.581133</td>\n",
       "      <td>148.0</td>\n",
       "      <td>BAS1</td>\n",
       "      <td>38.555000</td>\n",
       "      <td>NaN</td>\n",
       "    </tr>\n",
       "    <tr>\n",
       "      <th>1</th>\n",
       "      <td>A00018030</td>\n",
       "      <td>13.545205</td>\n",
       "      <td>2.0</td>\n",
       "      <td>3.424585</td>\n",
       "      <td>17.918871</td>\n",
       "      <td>140.0</td>\n",
       "      <td>FLU1</td>\n",
       "      <td>38.555000</td>\n",
       "      <td>88.823364</td>\n",
       "    </tr>\n",
       "    <tr>\n",
       "      <th>2</th>\n",
       "      <td>A00019903</td>\n",
       "      <td>83.183562</td>\n",
       "      <td>1.0</td>\n",
       "      <td>NaN</td>\n",
       "      <td>22.525657</td>\n",
       "      <td>134.0</td>\n",
       "      <td>BAS1</td>\n",
       "      <td>71.210000</td>\n",
       "      <td>NaN</td>\n",
       "    </tr>\n",
       "    <tr>\n",
       "      <th>3</th>\n",
       "      <td>A00028400</td>\n",
       "      <td>49.016438</td>\n",
       "      <td>2.0</td>\n",
       "      <td>2.946664</td>\n",
       "      <td>24.210798</td>\n",
       "      <td>205.0</td>\n",
       "      <td>BAS1</td>\n",
       "      <td>74.400000</td>\n",
       "      <td>39.605699</td>\n",
       "    </tr>\n",
       "    <tr>\n",
       "      <th>4</th>\n",
       "      <td>A00028468</td>\n",
       "      <td>46.284932</td>\n",
       "      <td>1.0</td>\n",
       "      <td>4.897387</td>\n",
       "      <td>29.800016</td>\n",
       "      <td>197.0</td>\n",
       "      <td>BAS1</td>\n",
       "      <td>88.900000</td>\n",
       "      <td>55.088716</td>\n",
       "    </tr>\n",
       "    <tr>\n",
       "      <th>...</th>\n",
       "      <td>...</td>\n",
       "      <td>...</td>\n",
       "      <td>...</td>\n",
       "      <td>...</td>\n",
       "      <td>...</td>\n",
       "      <td>...</td>\n",
       "      <td>...</td>\n",
       "      <td>...</td>\n",
       "      <td>...</td>\n",
       "    </tr>\n",
       "    <tr>\n",
       "      <th>165</th>\n",
       "      <td>A00065379</td>\n",
       "      <td>42.271233</td>\n",
       "      <td>1.0</td>\n",
       "      <td>4.897387</td>\n",
       "      <td>42.039886</td>\n",
       "      <td>NaN</td>\n",
       "      <td>BAS1</td>\n",
       "      <td>134.700000</td>\n",
       "      <td>36.357734</td>\n",
       "    </tr>\n",
       "    <tr>\n",
       "      <th>166</th>\n",
       "      <td>A00065574</td>\n",
       "      <td>23.720548</td>\n",
       "      <td>1.0</td>\n",
       "      <td>8.520437</td>\n",
       "      <td>26.181506</td>\n",
       "      <td>138.0</td>\n",
       "      <td>BAS1</td>\n",
       "      <td>85.300000</td>\n",
       "      <td>99.887888</td>\n",
       "    </tr>\n",
       "    <tr>\n",
       "      <th>167</th>\n",
       "      <td>A00066396</td>\n",
       "      <td>14.739726</td>\n",
       "      <td>1.0</td>\n",
       "      <td>3.338942</td>\n",
       "      <td>25.180785</td>\n",
       "      <td>149.0</td>\n",
       "      <td>BAS1</td>\n",
       "      <td>82.233333</td>\n",
       "      <td>40.603269</td>\n",
       "    </tr>\n",
       "    <tr>\n",
       "      <th>168</th>\n",
       "      <td>A00066396</td>\n",
       "      <td>15.586301</td>\n",
       "      <td>1.0</td>\n",
       "      <td>4.397490</td>\n",
       "      <td>26.046155</td>\n",
       "      <td>188.0</td>\n",
       "      <td>FLU1</td>\n",
       "      <td>82.233333</td>\n",
       "      <td>53.475757</td>\n",
       "    </tr>\n",
       "    <tr>\n",
       "      <th>169</th>\n",
       "      <td>A00066396</td>\n",
       "      <td>16.676712</td>\n",
       "      <td>1.0</td>\n",
       "      <td>3.338942</td>\n",
       "      <td>27.183921</td>\n",
       "      <td>190.0</td>\n",
       "      <td>FLU2</td>\n",
       "      <td>82.233333</td>\n",
       "      <td>40.603269</td>\n",
       "    </tr>\n",
       "  </tbody>\n",
       "</table>\n",
       "<p>170 rows × 9 columns</p>\n",
       "</div>"
      ],
      "text/plain": [
       "            id        age  sex    vo2max        bmi  cholesterol session  \\\n",
       "0    A00018030  11.673973  2.0       NaN  15.581133        148.0    BAS1   \n",
       "1    A00018030  13.545205  2.0  3.424585  17.918871        140.0    FLU1   \n",
       "2    A00019903  83.183562  1.0       NaN  22.525657        134.0    BAS1   \n",
       "3    A00028400  49.016438  2.0  2.946664  24.210798        205.0    BAS1   \n",
       "4    A00028468  46.284932  1.0  4.897387  29.800016        197.0    BAS1   \n",
       "..         ...        ...  ...       ...        ...          ...     ...   \n",
       "165  A00065379  42.271233  1.0  4.897387  42.039886          NaN    BAS1   \n",
       "166  A00065574  23.720548  1.0  8.520437  26.181506        138.0    BAS1   \n",
       "167  A00066396  14.739726  1.0  3.338942  25.180785        149.0    BAS1   \n",
       "168  A00066396  15.586301  1.0  4.397490  26.046155        188.0    FLU1   \n",
       "169  A00066396  16.676712  1.0  3.338942  27.183921        190.0    FLU2   \n",
       "\n",
       "     weight(kg)  rel_vo2max  \n",
       "0     38.555000         NaN  \n",
       "1     38.555000   88.823364  \n",
       "2     71.210000         NaN  \n",
       "3     74.400000   39.605699  \n",
       "4     88.900000   55.088716  \n",
       "..          ...         ...  \n",
       "165  134.700000   36.357734  \n",
       "166   85.300000   99.887888  \n",
       "167   82.233333   40.603269  \n",
       "168   82.233333   53.475757  \n",
       "169   82.233333   40.603269  \n",
       "\n",
       "[170 rows x 9 columns]"
      ]
     },
     "execution_count": 9,
     "metadata": {},
     "output_type": "execute_result"
    }
   ],
   "source": [
    "df_pheno"
   ]
  },
  {
   "cell_type": "code",
   "execution_count": 10,
   "metadata": {},
   "outputs": [],
   "source": [
    "df_pheno.to_csv('../data/phenotypic_w_kg.csv')"
   ]
  },
  {
   "cell_type": "code",
   "execution_count": null,
   "metadata": {},
   "outputs": [],
   "source": []
  }
 ],
 "metadata": {
  "kernelspec": {
   "display_name": "agg",
   "language": "python",
   "name": "agg"
  },
  "language_info": {
   "codemirror_mode": {
    "name": "ipython",
    "version": 3
   },
   "file_extension": ".py",
   "mimetype": "text/x-python",
   "name": "python",
   "nbconvert_exporter": "python",
   "pygments_lexer": "ipython3",
   "version": "3.7.3"
  }
 },
 "nbformat": 4,
 "nbformat_minor": 4
}
